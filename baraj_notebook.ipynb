{
 "cells": [
  {
   "cell_type": "code",
   "execution_count": 8,
   "id": "92b05d1d-68e7-4b93-a1cf-2b44b3c9ef13",
   "metadata": {
    "tags": []
   },
   "outputs": [],
   "source": [
    "import pandas as pd\n",
    "import numpy as np\n",
    "import matplotlib.pyplot as plt\n",
    "import seaborn as sns\n",
    "import plotly.express as px\n",
    "\n",
    "import warnings\n",
    "warnings.filterwarnings(\"ignore\")\n",
    "\n",
    "from sklearn.model_selection import train_test_split\n",
    "from sklearn.preprocessing import StandardScaler\n",
    "from xgboost import XGBRegressor\n",
    "from sklearn.metrics import mean_absolute_error, mean_squared_error, accuracy_score, r2_score\n",
    "from sklearn.model_selection import RandomizedSearchCV\n",
    "from sklearn.model_selection import cross_val_score\n",
    "from sklearn.preprocessing import OneHotEncoder, LabelEncoder"
   ]
  },
  {
   "cell_type": "markdown",
   "id": "23e07e95-268c-4f14-936d-8bdfd026ea8c",
   "metadata": {},
   "source": [
    "### İstanbul yıllara göre nüfus bilgisi"
   ]
  },
  {
   "cell_type": "code",
   "execution_count": 9,
   "id": "0f76efa6-c012-48d8-83de-1bdebeae6b06",
   "metadata": {
    "tags": []
   },
   "outputs": [],
   "source": [
    "nufus=[13624240,13854740,14160467,14377018, 14657434,14804116,15029231,15067724,15519267,15462452,15840900,15907951]"
   ]
  },
  {
   "cell_type": "code",
   "execution_count": 10,
   "id": "eda92005-dd44-4050-878d-b3adf8a28afe",
   "metadata": {},
   "outputs": [],
   "source": [
    "pop=pd.DataFrame({\"population\":nufus}, index=range(2011,2023))"
   ]
  },
  {
   "cell_type": "code",
   "execution_count": 11,
   "id": "4c354134-38e0-4363-aba2-22417556fd93",
   "metadata": {
    "tags": []
   },
   "outputs": [],
   "source": [
    "pop[\"population\"]=pop[\"population\"].astype(float)"
   ]
  },
  {
   "cell_type": "code",
   "execution_count": 12,
   "id": "47e1a944-1623-4cd3-bbf8-0fff46760b83",
   "metadata": {
    "tags": []
   },
   "outputs": [
    {
     "data": {
      "text/html": [
       "<div>\n",
       "<style scoped>\n",
       "    .dataframe tbody tr th:only-of-type {\n",
       "        vertical-align: middle;\n",
       "    }\n",
       "\n",
       "    .dataframe tbody tr th {\n",
       "        vertical-align: top;\n",
       "    }\n",
       "\n",
       "    .dataframe thead th {\n",
       "        text-align: right;\n",
       "    }\n",
       "</style>\n",
       "<table border=\"1\" class=\"dataframe\">\n",
       "  <thead>\n",
       "    <tr style=\"text-align: right;\">\n",
       "      <th></th>\n",
       "      <th>population</th>\n",
       "    </tr>\n",
       "  </thead>\n",
       "  <tbody>\n",
       "    <tr>\n",
       "      <th>2011</th>\n",
       "      <td>13624240.0</td>\n",
       "    </tr>\n",
       "    <tr>\n",
       "      <th>2012</th>\n",
       "      <td>13854740.0</td>\n",
       "    </tr>\n",
       "    <tr>\n",
       "      <th>2013</th>\n",
       "      <td>14160467.0</td>\n",
       "    </tr>\n",
       "    <tr>\n",
       "      <th>2014</th>\n",
       "      <td>14377018.0</td>\n",
       "    </tr>\n",
       "    <tr>\n",
       "      <th>2015</th>\n",
       "      <td>14657434.0</td>\n",
       "    </tr>\n",
       "    <tr>\n",
       "      <th>2016</th>\n",
       "      <td>14804116.0</td>\n",
       "    </tr>\n",
       "    <tr>\n",
       "      <th>2017</th>\n",
       "      <td>15029231.0</td>\n",
       "    </tr>\n",
       "    <tr>\n",
       "      <th>2018</th>\n",
       "      <td>15067724.0</td>\n",
       "    </tr>\n",
       "    <tr>\n",
       "      <th>2019</th>\n",
       "      <td>15519267.0</td>\n",
       "    </tr>\n",
       "    <tr>\n",
       "      <th>2020</th>\n",
       "      <td>15462452.0</td>\n",
       "    </tr>\n",
       "    <tr>\n",
       "      <th>2021</th>\n",
       "      <td>15840900.0</td>\n",
       "    </tr>\n",
       "    <tr>\n",
       "      <th>2022</th>\n",
       "      <td>15907951.0</td>\n",
       "    </tr>\n",
       "  </tbody>\n",
       "</table>\n",
       "</div>"
      ],
      "text/plain": [
       "      population\n",
       "2011  13624240.0\n",
       "2012  13854740.0\n",
       "2013  14160467.0\n",
       "2014  14377018.0\n",
       "2015  14657434.0\n",
       "2016  14804116.0\n",
       "2017  15029231.0\n",
       "2018  15067724.0\n",
       "2019  15519267.0\n",
       "2020  15462452.0\n",
       "2021  15840900.0\n",
       "2022  15907951.0"
      ]
     },
     "execution_count": 12,
     "metadata": {},
     "output_type": "execute_result"
    }
   ],
   "source": [
    "pop"
   ]
  },
  {
   "cell_type": "markdown",
   "id": "e1d9bc64-9131-4292-b8fc-d8d3866457f4",
   "metadata": {},
   "source": [
    "# İstanbul barajları ortalama doluluk oranları ve yağış, tüketim, temiz su datası"
   ]
  },
  {
   "cell_type": "code",
   "execution_count": 13,
   "id": "121c599e-b6dc-4b5c-870a-12d7c538315e",
   "metadata": {
    "tags": []
   },
   "outputs": [],
   "source": [
    "df=pd.read_csv(\"baraj3.csv\", encoding='latin-1', on_bad_lines='skip', sep=\";\")\n"
   ]
  },
  {
   "cell_type": "code",
   "execution_count": 14,
   "id": "8cf9b9a7-22a3-4ad1-afef-af0c07d251cf",
   "metadata": {
    "tags": []
   },
   "outputs": [
    {
     "data": {
      "text/html": [
       "<div>\n",
       "<style scoped>\n",
       "    .dataframe tbody tr th:only-of-type {\n",
       "        vertical-align: middle;\n",
       "    }\n",
       "\n",
       "    .dataframe tbody tr th {\n",
       "        vertical-align: top;\n",
       "    }\n",
       "\n",
       "    .dataframe thead th {\n",
       "        text-align: right;\n",
       "    }\n",
       "</style>\n",
       "<table border=\"1\" class=\"dataframe\">\n",
       "  <thead>\n",
       "    <tr style=\"text-align: right;\">\n",
       "      <th></th>\n",
       "      <th>Unnamed: 0.1</th>\n",
       "      <th>Unnamed: 0</th>\n",
       "      <th>Ãmerli</th>\n",
       "      <th>Darlik</th>\n",
       "      <th>Elmali</th>\n",
       "      <th>Terkos</th>\n",
       "      <th>Alibey</th>\n",
       "      <th>BÃ¼yÃ¼kÃ§ekmece</th>\n",
       "      <th>Sazlidere</th>\n",
       "      <th>Kazandere</th>\n",
       "      <th>PabuÃ§dere</th>\n",
       "      <th>Istrancalar</th>\n",
       "      <th>ort</th>\n",
       "      <th>yagis</th>\n",
       "      <th>tuketim</th>\n",
       "      <th>temiz</th>\n",
       "    </tr>\n",
       "  </thead>\n",
       "  <tbody>\n",
       "    <tr>\n",
       "      <th>0</th>\n",
       "      <td>1.01.11</td>\n",
       "      <td>1.01.11 00:00</td>\n",
       "      <td>80,07</td>\n",
       "      <td>84,86</td>\n",
       "      <td>96,25</td>\n",
       "      <td>91,87</td>\n",
       "      <td>42,48</td>\n",
       "      <td>85,99</td>\n",
       "      <td>79,1</td>\n",
       "      <td>93,9</td>\n",
       "      <td>94,19</td>\n",
       "      <td>99,99</td>\n",
       "      <td>84,87</td>\n",
       "      <td>0</td>\n",
       "      <td>NaN</td>\n",
       "      <td>65.178</td>\n",
       "    </tr>\n",
       "    <tr>\n",
       "      <th>1</th>\n",
       "      <td>2.01.11</td>\n",
       "      <td>2.01.11 00:00</td>\n",
       "      <td>80,07</td>\n",
       "      <td>85,02</td>\n",
       "      <td>96,67</td>\n",
       "      <td>91,68</td>\n",
       "      <td>42,71</td>\n",
       "      <td>86,17</td>\n",
       "      <td>79,21</td>\n",
       "      <td>92,8</td>\n",
       "      <td>93,11</td>\n",
       "      <td>99,99</td>\n",
       "      <td>84,74</td>\n",
       "      <td>0</td>\n",
       "      <td>NaN</td>\n",
       "      <td>65.178</td>\n",
       "    </tr>\n",
       "    <tr>\n",
       "      <th>2</th>\n",
       "      <td>3.01.11</td>\n",
       "      <td>3.01.11 00:00</td>\n",
       "      <td>80,07</td>\n",
       "      <td>85,07</td>\n",
       "      <td>96,88</td>\n",
       "      <td>91,68</td>\n",
       "      <td>42,79</td>\n",
       "      <td>86,55</td>\n",
       "      <td>79,31</td>\n",
       "      <td>91,39</td>\n",
       "      <td>91,71</td>\n",
       "      <td>99,99</td>\n",
       "      <td>84,54</td>\n",
       "      <td>0,78</td>\n",
       "      <td>NaN</td>\n",
       "      <td>65.178</td>\n",
       "    </tr>\n",
       "    <tr>\n",
       "      <th>3</th>\n",
       "      <td>4.01.11</td>\n",
       "      <td>4.01.11 00:00</td>\n",
       "      <td>80,07</td>\n",
       "      <td>85,18</td>\n",
       "      <td>95</td>\n",
       "      <td>92,44</td>\n",
       "      <td>43,34</td>\n",
       "      <td>86,74</td>\n",
       "      <td>79,96</td>\n",
       "      <td>90,65</td>\n",
       "      <td>90,99</td>\n",
       "      <td>99,99</td>\n",
       "      <td>84,44</td>\n",
       "      <td>11,66</td>\n",
       "      <td>NaN</td>\n",
       "      <td>65.178</td>\n",
       "    </tr>\n",
       "    <tr>\n",
       "      <th>4</th>\n",
       "      <td>5.01.11</td>\n",
       "      <td>5.01.11 00:00</td>\n",
       "      <td>80,61</td>\n",
       "      <td>85,98</td>\n",
       "      <td>95,21</td>\n",
       "      <td>92,63</td>\n",
       "      <td>45,81</td>\n",
       "      <td>87,3</td>\n",
       "      <td>80,37</td>\n",
       "      <td>90,93</td>\n",
       "      <td>91,26</td>\n",
       "      <td>99,99</td>\n",
       "      <td>85,01</td>\n",
       "      <td>3,81</td>\n",
       "      <td>NaN</td>\n",
       "      <td>65.178</td>\n",
       "    </tr>\n",
       "  </tbody>\n",
       "</table>\n",
       "</div>"
      ],
      "text/plain": [
       "  Unnamed: 0.1     Unnamed: 0 Ãmerli Darlik Elmali Terkos Alibey  \\\n",
       "0      1.01.11  1.01.11 00:00   80,07  84,86  96,25  91,87  42,48   \n",
       "1      2.01.11  2.01.11 00:00   80,07  85,02  96,67  91,68  42,71   \n",
       "2      3.01.11  3.01.11 00:00   80,07  85,07  96,88  91,68  42,79   \n",
       "3      4.01.11  4.01.11 00:00   80,07  85,18     95  92,44  43,34   \n",
       "4      5.01.11  5.01.11 00:00   80,61  85,98  95,21  92,63  45,81   \n",
       "\n",
       "  BÃ¼yÃ¼kÃ§ekmece Sazlidere Kazandere PabuÃ§dere Istrancalar    ort  yagis  \\\n",
       "0           85,99      79,1      93,9      94,19       99,99  84,87      0   \n",
       "1           86,17     79,21      92,8      93,11       99,99  84,74      0   \n",
       "2           86,55     79,31     91,39      91,71       99,99  84,54   0,78   \n",
       "3           86,74     79,96     90,65      90,99       99,99  84,44  11,66   \n",
       "4            87,3     80,37     90,93      91,26       99,99  85,01   3,81   \n",
       "\n",
       "   tuketim   temiz  \n",
       "0      NaN  65.178  \n",
       "1      NaN  65.178  \n",
       "2      NaN  65.178  \n",
       "3      NaN  65.178  \n",
       "4      NaN  65.178  "
      ]
     },
     "execution_count": 14,
     "metadata": {},
     "output_type": "execute_result"
    }
   ],
   "source": [
    "df.head()"
   ]
  },
  {
   "cell_type": "code",
   "execution_count": 15,
   "id": "2a3a391a-5b13-4d4c-b021-ed552ad431e4",
   "metadata": {
    "tags": []
   },
   "outputs": [],
   "source": [
    "\n",
    "from datetime import datetime\n",
    "df.index=pd.date_range(\"2011-01-01\",\"31-03-23\")"
   ]
  },
  {
   "cell_type": "code",
   "execution_count": 16,
   "id": "422189bc-70e9-4c8c-ab28-10b7f49515e7",
   "metadata": {
    "tags": []
   },
   "outputs": [],
   "source": [
    "df.rename(columns ={\"Ãmerli\":\"Omerli\", \"BÃ¼yÃ¼kÃ§ekmece\":\"Buyukcekmece\", \"PabuÃ§dere\":\"Pabucdere\",\"ort\":\"ort_dol\", \"yagis\":\"ort_yagis\",\n",
    "                    \"tuketim\":\"ort_tuketim\"}, inplace=True)"
   ]
  },
  {
   "cell_type": "code",
   "execution_count": 17,
   "id": "691df26d-95e6-469a-bcab-9a3b72ec3709",
   "metadata": {
    "tags": []
   },
   "outputs": [],
   "source": [
    "df.drop([\"Unnamed: 0.1\", \"Unnamed: 0\"], 1, inplace=True)"
   ]
  },
  {
   "cell_type": "code",
   "execution_count": 18,
   "id": "a0a5cb2a-20c2-4eff-888b-c9182e59b264",
   "metadata": {
    "tags": []
   },
   "outputs": [],
   "source": [
    "from datetime import datetime\n",
    "df.index=pd.date_range(\"2011-01-01\",\"31-03-23\")"
   ]
  },
  {
   "cell_type": "code",
   "execution_count": 19,
   "id": "bae94d36-0297-4255-ab26-fa4a09189e51",
   "metadata": {
    "tags": []
   },
   "outputs": [],
   "source": [
    "for i in df.columns:\n",
    "    try:\n",
    "        df[i]=df[i].apply(lambda x: x.replace(\",\",\".\"))\n",
    "    except:\n",
    "        pass"
   ]
  },
  {
   "cell_type": "code",
   "execution_count": 20,
   "id": "5ad31fef-cb75-423e-9de6-01b76c2287b5",
   "metadata": {
    "tags": []
   },
   "outputs": [],
   "source": [
    "for i in df.columns:\n",
    "    try:\n",
    "        df[i]=df[i].astype(float)\n",
    "    except:\n",
    "        pass"
   ]
  },
  {
   "cell_type": "code",
   "execution_count": 21,
   "id": "5eba0a92-bd56-4fdc-94ea-93915f6a7750",
   "metadata": {
    "tags": []
   },
   "outputs": [],
   "source": [
    "df.loc[\"2011\",\"ort_tuketim\"]=13487570.79\n",
    "df.loc[\"2012\",\"ort_tuketim\"]=14049552.91\n",
    "df.loc[\"2013\",\"ort_tuketim\"]=14634950.95\n",
    "df.loc[\"2014\",\"ort_tuketim\"]=15244740.57"
   ]
  },
  {
   "cell_type": "code",
   "execution_count": 22,
   "id": "4de1d051-6a48-4af9-a5e2-64225d4b8b06",
   "metadata": {
    "tags": []
   },
   "outputs": [],
   "source": [
    "df[\"population\"]=np.nan"
   ]
  },
  {
   "cell_type": "code",
   "execution_count": 23,
   "id": "91590496-e0da-4bb2-aa7f-052467805381",
   "metadata": {
    "tags": []
   },
   "outputs": [],
   "source": [
    "for i in range(2011-2023):\n",
    "    df.loc[str(i),\"population\"]=pop.loc[i,\"population\"]"
   ]
  },
  {
   "cell_type": "code",
   "execution_count": 24,
   "id": "c73598d8-3e3c-435f-8d7c-9c1195752424",
   "metadata": {
    "tags": []
   },
   "outputs": [],
   "source": [
    "df.loc[\"2011\",\"population\"]=pop.loc[2011,\"population\"]\n",
    "df.loc[\"2012\",\"population\"]=pop.loc[2012,\"population\"]\n",
    "df.loc[\"2013\",\"population\"]=pop.loc[2013,\"population\"]\n",
    "df.loc[\"2014\",\"population\"]=pop.loc[2014,\"population\"]\n",
    "df.loc[\"2015\",\"population\"]=pop.loc[2015,\"population\"]\n",
    "df.loc[\"2016\",\"population\"]=pop.loc[2016,\"population\"]\n",
    "df.loc[\"2017\",\"population\"]=pop.loc[2017,\"population\"]\n",
    "df.loc[\"2018\",\"population\"]=pop.loc[2018,\"population\"]\n",
    "df.loc[\"2019\",\"population\"]=pop.loc[2019,\"population\"]\n",
    "df.loc[\"2020\",\"population\"]=pop.loc[2020,\"population\"]\n",
    "df.loc[\"2021\",\"population\"]=pop.loc[2021,\"population\"]\n",
    "df.loc[\"2022\",\"population\"]=pop.loc[2022,\"population\"]\n",
    "df.loc[\"2023\",\"population\"]=pop.loc[2022,\"population\"]"
   ]
  },
  {
   "cell_type": "code",
   "execution_count": 25,
   "id": "fb6d2635-1000-4a56-b9e4-ccf02637493a",
   "metadata": {
    "tags": []
   },
   "outputs": [
    {
     "data": {
      "text/html": [
       "<div>\n",
       "<style scoped>\n",
       "    .dataframe tbody tr th:only-of-type {\n",
       "        vertical-align: middle;\n",
       "    }\n",
       "\n",
       "    .dataframe tbody tr th {\n",
       "        vertical-align: top;\n",
       "    }\n",
       "\n",
       "    .dataframe thead th {\n",
       "        text-align: right;\n",
       "    }\n",
       "</style>\n",
       "<table border=\"1\" class=\"dataframe\">\n",
       "  <thead>\n",
       "    <tr style=\"text-align: right;\">\n",
       "      <th></th>\n",
       "      <th>Omerli</th>\n",
       "      <th>Darlik</th>\n",
       "      <th>Elmali</th>\n",
       "      <th>Terkos</th>\n",
       "      <th>Alibey</th>\n",
       "      <th>Buyukcekmece</th>\n",
       "      <th>Sazlidere</th>\n",
       "      <th>Kazandere</th>\n",
       "      <th>Pabucdere</th>\n",
       "      <th>Istrancalar</th>\n",
       "      <th>ort_dol</th>\n",
       "      <th>ort_yagis</th>\n",
       "      <th>ort_tuketim</th>\n",
       "      <th>temiz</th>\n",
       "      <th>population</th>\n",
       "    </tr>\n",
       "  </thead>\n",
       "  <tbody>\n",
       "    <tr>\n",
       "      <th>2011-01-01</th>\n",
       "      <td>80.07</td>\n",
       "      <td>84.86</td>\n",
       "      <td>96.25</td>\n",
       "      <td>91.87</td>\n",
       "      <td>42.48</td>\n",
       "      <td>85.99</td>\n",
       "      <td>79.10</td>\n",
       "      <td>93.90</td>\n",
       "      <td>94.19</td>\n",
       "      <td>99.99</td>\n",
       "      <td>84.87</td>\n",
       "      <td>0.00</td>\n",
       "      <td>13487570.79</td>\n",
       "      <td>65.178</td>\n",
       "      <td>13624240.0</td>\n",
       "    </tr>\n",
       "    <tr>\n",
       "      <th>2011-01-02</th>\n",
       "      <td>80.07</td>\n",
       "      <td>85.02</td>\n",
       "      <td>96.67</td>\n",
       "      <td>91.68</td>\n",
       "      <td>42.71</td>\n",
       "      <td>86.17</td>\n",
       "      <td>79.21</td>\n",
       "      <td>92.80</td>\n",
       "      <td>93.11</td>\n",
       "      <td>99.99</td>\n",
       "      <td>84.74</td>\n",
       "      <td>0.00</td>\n",
       "      <td>13487570.79</td>\n",
       "      <td>65.178</td>\n",
       "      <td>13624240.0</td>\n",
       "    </tr>\n",
       "    <tr>\n",
       "      <th>2011-01-03</th>\n",
       "      <td>80.07</td>\n",
       "      <td>85.07</td>\n",
       "      <td>96.88</td>\n",
       "      <td>91.68</td>\n",
       "      <td>42.79</td>\n",
       "      <td>86.55</td>\n",
       "      <td>79.31</td>\n",
       "      <td>91.39</td>\n",
       "      <td>91.71</td>\n",
       "      <td>99.99</td>\n",
       "      <td>84.54</td>\n",
       "      <td>0.78</td>\n",
       "      <td>13487570.79</td>\n",
       "      <td>65.178</td>\n",
       "      <td>13624240.0</td>\n",
       "    </tr>\n",
       "    <tr>\n",
       "      <th>2011-01-04</th>\n",
       "      <td>80.07</td>\n",
       "      <td>85.18</td>\n",
       "      <td>95.00</td>\n",
       "      <td>92.44</td>\n",
       "      <td>43.34</td>\n",
       "      <td>86.74</td>\n",
       "      <td>79.96</td>\n",
       "      <td>90.65</td>\n",
       "      <td>90.99</td>\n",
       "      <td>99.99</td>\n",
       "      <td>84.44</td>\n",
       "      <td>11.66</td>\n",
       "      <td>13487570.79</td>\n",
       "      <td>65.178</td>\n",
       "      <td>13624240.0</td>\n",
       "    </tr>\n",
       "    <tr>\n",
       "      <th>2011-01-05</th>\n",
       "      <td>80.61</td>\n",
       "      <td>85.98</td>\n",
       "      <td>95.21</td>\n",
       "      <td>92.63</td>\n",
       "      <td>45.81</td>\n",
       "      <td>87.30</td>\n",
       "      <td>80.37</td>\n",
       "      <td>90.93</td>\n",
       "      <td>91.26</td>\n",
       "      <td>99.99</td>\n",
       "      <td>85.01</td>\n",
       "      <td>3.81</td>\n",
       "      <td>13487570.79</td>\n",
       "      <td>65.178</td>\n",
       "      <td>13624240.0</td>\n",
       "    </tr>\n",
       "  </tbody>\n",
       "</table>\n",
       "</div>"
      ],
      "text/plain": [
       "            Omerli  Darlik  Elmali  Terkos  Alibey  Buyukcekmece  Sazlidere  \\\n",
       "2011-01-01   80.07   84.86   96.25   91.87   42.48         85.99      79.10   \n",
       "2011-01-02   80.07   85.02   96.67   91.68   42.71         86.17      79.21   \n",
       "2011-01-03   80.07   85.07   96.88   91.68   42.79         86.55      79.31   \n",
       "2011-01-04   80.07   85.18   95.00   92.44   43.34         86.74      79.96   \n",
       "2011-01-05   80.61   85.98   95.21   92.63   45.81         87.30      80.37   \n",
       "\n",
       "            Kazandere  Pabucdere  Istrancalar  ort_dol  ort_yagis  \\\n",
       "2011-01-01      93.90      94.19        99.99    84.87       0.00   \n",
       "2011-01-02      92.80      93.11        99.99    84.74       0.00   \n",
       "2011-01-03      91.39      91.71        99.99    84.54       0.78   \n",
       "2011-01-04      90.65      90.99        99.99    84.44      11.66   \n",
       "2011-01-05      90.93      91.26        99.99    85.01       3.81   \n",
       "\n",
       "            ort_tuketim   temiz  population  \n",
       "2011-01-01  13487570.79  65.178  13624240.0  \n",
       "2011-01-02  13487570.79  65.178  13624240.0  \n",
       "2011-01-03  13487570.79  65.178  13624240.0  \n",
       "2011-01-04  13487570.79  65.178  13624240.0  \n",
       "2011-01-05  13487570.79  65.178  13624240.0  "
      ]
     },
     "execution_count": 25,
     "metadata": {},
     "output_type": "execute_result"
    }
   ],
   "source": [
    "df.head()"
   ]
  },
  {
   "cell_type": "code",
   "execution_count": 26,
   "id": "84793c26-abd8-405a-8d16-2b7ec5eae197",
   "metadata": {
    "tags": []
   },
   "outputs": [],
   "source": [
    "df=df.iloc[:,10:]"
   ]
  },
  {
   "cell_type": "code",
   "execution_count": 27,
   "id": "cc0d0d91-7617-4299-843d-b1f240218b25",
   "metadata": {
    "tags": []
   },
   "outputs": [
    {
     "data": {
      "text/html": [
       "<div>\n",
       "<style scoped>\n",
       "    .dataframe tbody tr th:only-of-type {\n",
       "        vertical-align: middle;\n",
       "    }\n",
       "\n",
       "    .dataframe tbody tr th {\n",
       "        vertical-align: top;\n",
       "    }\n",
       "\n",
       "    .dataframe thead th {\n",
       "        text-align: right;\n",
       "    }\n",
       "</style>\n",
       "<table border=\"1\" class=\"dataframe\">\n",
       "  <thead>\n",
       "    <tr style=\"text-align: right;\">\n",
       "      <th></th>\n",
       "      <th>ort_dol</th>\n",
       "      <th>ort_yagis</th>\n",
       "      <th>ort_tuketim</th>\n",
       "      <th>temiz</th>\n",
       "      <th>population</th>\n",
       "    </tr>\n",
       "  </thead>\n",
       "  <tbody>\n",
       "    <tr>\n",
       "      <th>2011-01-01</th>\n",
       "      <td>84.87</td>\n",
       "      <td>0.00</td>\n",
       "      <td>13487570.79</td>\n",
       "      <td>65.178</td>\n",
       "      <td>13624240.0</td>\n",
       "    </tr>\n",
       "    <tr>\n",
       "      <th>2011-01-02</th>\n",
       "      <td>84.74</td>\n",
       "      <td>0.00</td>\n",
       "      <td>13487570.79</td>\n",
       "      <td>65.178</td>\n",
       "      <td>13624240.0</td>\n",
       "    </tr>\n",
       "    <tr>\n",
       "      <th>2011-01-03</th>\n",
       "      <td>84.54</td>\n",
       "      <td>0.78</td>\n",
       "      <td>13487570.79</td>\n",
       "      <td>65.178</td>\n",
       "      <td>13624240.0</td>\n",
       "    </tr>\n",
       "    <tr>\n",
       "      <th>2011-01-04</th>\n",
       "      <td>84.44</td>\n",
       "      <td>11.66</td>\n",
       "      <td>13487570.79</td>\n",
       "      <td>65.178</td>\n",
       "      <td>13624240.0</td>\n",
       "    </tr>\n",
       "    <tr>\n",
       "      <th>2011-01-05</th>\n",
       "      <td>85.01</td>\n",
       "      <td>3.81</td>\n",
       "      <td>13487570.79</td>\n",
       "      <td>65.178</td>\n",
       "      <td>13624240.0</td>\n",
       "    </tr>\n",
       "  </tbody>\n",
       "</table>\n",
       "</div>"
      ],
      "text/plain": [
       "            ort_dol  ort_yagis  ort_tuketim   temiz  population\n",
       "2011-01-01    84.87       0.00  13487570.79  65.178  13624240.0\n",
       "2011-01-02    84.74       0.00  13487570.79  65.178  13624240.0\n",
       "2011-01-03    84.54       0.78  13487570.79  65.178  13624240.0\n",
       "2011-01-04    84.44      11.66  13487570.79  65.178  13624240.0\n",
       "2011-01-05    85.01       3.81  13487570.79  65.178  13624240.0"
      ]
     },
     "execution_count": 27,
     "metadata": {},
     "output_type": "execute_result"
    }
   ],
   "source": [
    "df.head()"
   ]
  },
  {
   "cell_type": "code",
   "execution_count": 28,
   "id": "0ab7c3cd-1140-49dd-ad1d-908cd061aa9e",
   "metadata": {
    "tags": []
   },
   "outputs": [],
   "source": [
    "def create_features(df):\n",
    "    \"\"\"\n",
    "    Create time series features based on time series index.\n",
    "    \"\"\"\n",
    "    df = df.copy()\n",
    "    df['dayofweek'] = df.index.dayofweek\n",
    "    df['month'] = df.index.month\n",
    "    df['year'] = df.index.year\n",
    "    df['dayofyear'] = df.index.dayofyear\n",
    "    df['dayofmonth'] = df.index.day\n",
    "    df['quarter'] = df.index.quarter\n",
    "    df['weekofyear'] = df.index.isocalendar().week\n",
    "    return df\n",
    "\n",
    "df = create_features(df)"
   ]
  },
  {
   "cell_type": "code",
   "execution_count": 30,
   "id": "aff23c2f-a660-42be-adc3-f2efcc82d95c",
   "metadata": {
    "tags": []
   },
   "outputs": [],
   "source": [
    "def add_lags(df):\n",
    "    target_map = df['ort_dol'].to_dict()\n",
    "    df['lag1'] = (df.index - pd.Timedelta('364 days')).map(target_map)\n",
    "    df['lag2'] = (df.index - pd.Timedelta('728 days')).map(target_map)\n",
    "    df['lag3'] = (df.index - pd.Timedelta('1092 days')).map(target_map)\n",
    "    return df\n",
    "\n",
    "df = add_lags(df)"
   ]
  },
  {
   "cell_type": "code",
   "execution_count": 31,
   "id": "ba1931a4-6546-4256-b4de-0ca954b13c82",
   "metadata": {
    "tags": []
   },
   "outputs": [],
   "source": [
    "df[\"dayofweek\"]=df[\"dayofweek\"].apply(lambda x: x+1)"
   ]
  },
  {
   "cell_type": "code",
   "execution_count": 32,
   "id": "b14e438b-e06e-4ef9-9ea8-cfdbd644e355",
   "metadata": {
    "tags": []
   },
   "outputs": [
    {
     "data": {
      "text/html": [
       "<div>\n",
       "<style scoped>\n",
       "    .dataframe tbody tr th:only-of-type {\n",
       "        vertical-align: middle;\n",
       "    }\n",
       "\n",
       "    .dataframe tbody tr th {\n",
       "        vertical-align: top;\n",
       "    }\n",
       "\n",
       "    .dataframe thead th {\n",
       "        text-align: right;\n",
       "    }\n",
       "</style>\n",
       "<table border=\"1\" class=\"dataframe\">\n",
       "  <thead>\n",
       "    <tr style=\"text-align: right;\">\n",
       "      <th></th>\n",
       "      <th>ort_dol</th>\n",
       "      <th>ort_yagis</th>\n",
       "      <th>ort_tuketim</th>\n",
       "      <th>temiz</th>\n",
       "      <th>population</th>\n",
       "      <th>dayofweek</th>\n",
       "      <th>month</th>\n",
       "      <th>year</th>\n",
       "      <th>dayofyear</th>\n",
       "      <th>dayofmonth</th>\n",
       "      <th>quarter</th>\n",
       "      <th>weekofyear</th>\n",
       "      <th>lag1</th>\n",
       "      <th>lag2</th>\n",
       "      <th>lag3</th>\n",
       "    </tr>\n",
       "  </thead>\n",
       "  <tbody>\n",
       "    <tr>\n",
       "      <th>2011-01-01</th>\n",
       "      <td>84.87</td>\n",
       "      <td>0.00</td>\n",
       "      <td>13487570.79</td>\n",
       "      <td>65.178</td>\n",
       "      <td>13624240.0</td>\n",
       "      <td>6</td>\n",
       "      <td>1</td>\n",
       "      <td>2011</td>\n",
       "      <td>1</td>\n",
       "      <td>1</td>\n",
       "      <td>1</td>\n",
       "      <td>52</td>\n",
       "      <td>NaN</td>\n",
       "      <td>NaN</td>\n",
       "      <td>NaN</td>\n",
       "    </tr>\n",
       "    <tr>\n",
       "      <th>2011-01-02</th>\n",
       "      <td>84.74</td>\n",
       "      <td>0.00</td>\n",
       "      <td>13487570.79</td>\n",
       "      <td>65.178</td>\n",
       "      <td>13624240.0</td>\n",
       "      <td>7</td>\n",
       "      <td>1</td>\n",
       "      <td>2011</td>\n",
       "      <td>2</td>\n",
       "      <td>2</td>\n",
       "      <td>1</td>\n",
       "      <td>52</td>\n",
       "      <td>NaN</td>\n",
       "      <td>NaN</td>\n",
       "      <td>NaN</td>\n",
       "    </tr>\n",
       "    <tr>\n",
       "      <th>2011-01-03</th>\n",
       "      <td>84.54</td>\n",
       "      <td>0.78</td>\n",
       "      <td>13487570.79</td>\n",
       "      <td>65.178</td>\n",
       "      <td>13624240.0</td>\n",
       "      <td>1</td>\n",
       "      <td>1</td>\n",
       "      <td>2011</td>\n",
       "      <td>3</td>\n",
       "      <td>3</td>\n",
       "      <td>1</td>\n",
       "      <td>1</td>\n",
       "      <td>NaN</td>\n",
       "      <td>NaN</td>\n",
       "      <td>NaN</td>\n",
       "    </tr>\n",
       "    <tr>\n",
       "      <th>2011-01-04</th>\n",
       "      <td>84.44</td>\n",
       "      <td>11.66</td>\n",
       "      <td>13487570.79</td>\n",
       "      <td>65.178</td>\n",
       "      <td>13624240.0</td>\n",
       "      <td>2</td>\n",
       "      <td>1</td>\n",
       "      <td>2011</td>\n",
       "      <td>4</td>\n",
       "      <td>4</td>\n",
       "      <td>1</td>\n",
       "      <td>1</td>\n",
       "      <td>NaN</td>\n",
       "      <td>NaN</td>\n",
       "      <td>NaN</td>\n",
       "    </tr>\n",
       "    <tr>\n",
       "      <th>2011-01-05</th>\n",
       "      <td>85.01</td>\n",
       "      <td>3.81</td>\n",
       "      <td>13487570.79</td>\n",
       "      <td>65.178</td>\n",
       "      <td>13624240.0</td>\n",
       "      <td>3</td>\n",
       "      <td>1</td>\n",
       "      <td>2011</td>\n",
       "      <td>5</td>\n",
       "      <td>5</td>\n",
       "      <td>1</td>\n",
       "      <td>1</td>\n",
       "      <td>NaN</td>\n",
       "      <td>NaN</td>\n",
       "      <td>NaN</td>\n",
       "    </tr>\n",
       "  </tbody>\n",
       "</table>\n",
       "</div>"
      ],
      "text/plain": [
       "            ort_dol  ort_yagis  ort_tuketim   temiz  population  dayofweek  \\\n",
       "2011-01-01    84.87       0.00  13487570.79  65.178  13624240.0          6   \n",
       "2011-01-02    84.74       0.00  13487570.79  65.178  13624240.0          7   \n",
       "2011-01-03    84.54       0.78  13487570.79  65.178  13624240.0          1   \n",
       "2011-01-04    84.44      11.66  13487570.79  65.178  13624240.0          2   \n",
       "2011-01-05    85.01       3.81  13487570.79  65.178  13624240.0          3   \n",
       "\n",
       "            month  year  dayofyear  dayofmonth  quarter  weekofyear  lag1  \\\n",
       "2011-01-01      1  2011          1           1        1          52   NaN   \n",
       "2011-01-02      1  2011          2           2        1          52   NaN   \n",
       "2011-01-03      1  2011          3           3        1           1   NaN   \n",
       "2011-01-04      1  2011          4           4        1           1   NaN   \n",
       "2011-01-05      1  2011          5           5        1           1   NaN   \n",
       "\n",
       "            lag2  lag3  \n",
       "2011-01-01   NaN   NaN  \n",
       "2011-01-02   NaN   NaN  \n",
       "2011-01-03   NaN   NaN  \n",
       "2011-01-04   NaN   NaN  \n",
       "2011-01-05   NaN   NaN  "
      ]
     },
     "execution_count": 32,
     "metadata": {},
     "output_type": "execute_result"
    }
   ],
   "source": [
    "df.head()"
   ]
  },
  {
   "cell_type": "markdown",
   "id": "fc8e10b1-b70c-431c-a3dd-b2f8a9e60c8f",
   "metadata": {},
   "source": [
    "# Train and Test Split"
   ]
  },
  {
   "cell_type": "code",
   "execution_count": 33,
   "id": "272a4c80-c413-47ea-9e94-51a59a8e695e",
   "metadata": {
    "tags": []
   },
   "outputs": [],
   "source": [
    "train = df.loc[df.index < '01-01-2022']\n",
    "test = df.loc[df.index >= '01-01-2022']"
   ]
  },
  {
   "cell_type": "code",
   "execution_count": 34,
   "id": "f8380dd4-11b1-44f8-b243-d37372e253fb",
   "metadata": {
    "tags": []
   },
   "outputs": [],
   "source": [
    "train = create_features(train)\n",
    "test = create_features(test)\n",
    "\n",
    "FEATURES = ['ort_yagis',\"temiz\", 'population','dayofweek', 'month', 'dayofmonth',\"lag1\",\"lag2\",\"lag3\"]\n",
    "TARGET = \"ort_dol\"\n",
    "\n",
    "X_train = train[FEATURES]\n",
    "y_train = train[TARGET]\n",
    "\n",
    "X_test = test[FEATURES]\n",
    "y_test = test[TARGET]"
   ]
  },
  {
   "cell_type": "code",
   "execution_count": 35,
   "id": "1cd11d0b-4f44-419a-a81a-466958e18eee",
   "metadata": {
    "tags": []
   },
   "outputs": [],
   "source": [
    "X_test=X_test.loc[:\"2022-12-31\"]\n",
    "y_test=y_test.loc[:\"2022-12-31\"]"
   ]
  },
  {
   "cell_type": "code",
   "execution_count": 36,
   "id": "9657a5ca-128d-4114-a3b1-d19175bab144",
   "metadata": {
    "tags": []
   },
   "outputs": [],
   "source": [
    "X_train[\"dayofweek\"]=X_train[\"dayofweek\"].apply(lambda x: str(x))\n",
    "X_train[\"month\"]=X_train[\"month\"].apply(lambda x: str(x))\n",
    "X_train[\"dayofmonth\"]=X_train[\"dayofmonth\"].apply(lambda x: str(x))\n",
    "#X_train[\"quarter\"]=X_train[\"quarter\"].apply(lambda x: str(x))\n",
    "\n",
    "X_test[\"dayofweek\"]=X_test[\"dayofweek\"].apply(lambda x: str(x))\n",
    "X_test[\"month\"]=X_test[\"month\"].apply(lambda x: str(x))\n",
    "X_test[\"dayofmonth\"]=X_test[\"dayofmonth\"].apply(lambda x: str(x))\n",
    "#X_test[\"quarter\"]=X_test[\"quarter\"].apply(lambda x: str(x))"
   ]
  },
  {
   "cell_type": "code",
   "execution_count": 37,
   "id": "db829f2a-2a4e-4fdd-a04f-1e1d293f5d9d",
   "metadata": {
    "tags": []
   },
   "outputs": [],
   "source": [
    "from category_encoders import TargetEncoder\n",
    "te=TargetEncoder()\n",
    "X_train=te.fit_transform(X_train, y_train)\n",
    "X_test=te.transform(X_test)"
   ]
  },
  {
   "cell_type": "code",
   "execution_count": 38,
   "id": "579ac734-36bf-4afb-9187-d1439248e2cf",
   "metadata": {
    "tags": []
   },
   "outputs": [
    {
     "data": {
      "text/html": [
       "<div>\n",
       "<style scoped>\n",
       "    .dataframe tbody tr th:only-of-type {\n",
       "        vertical-align: middle;\n",
       "    }\n",
       "\n",
       "    .dataframe tbody tr th {\n",
       "        vertical-align: top;\n",
       "    }\n",
       "\n",
       "    .dataframe thead th {\n",
       "        text-align: right;\n",
       "    }\n",
       "</style>\n",
       "<table border=\"1\" class=\"dataframe\">\n",
       "  <thead>\n",
       "    <tr style=\"text-align: right;\">\n",
       "      <th></th>\n",
       "      <th>ort_yagis</th>\n",
       "      <th>temiz</th>\n",
       "      <th>population</th>\n",
       "      <th>dayofweek</th>\n",
       "      <th>month</th>\n",
       "      <th>dayofmonth</th>\n",
       "      <th>lag1</th>\n",
       "      <th>lag2</th>\n",
       "      <th>lag3</th>\n",
       "    </tr>\n",
       "  </thead>\n",
       "  <tbody>\n",
       "    <tr>\n",
       "      <th>2011-01-01</th>\n",
       "      <td>0.00</td>\n",
       "      <td>65.178</td>\n",
       "      <td>13624240.0</td>\n",
       "      <td>62.058153</td>\n",
       "      <td>63.530997</td>\n",
       "      <td>62.426510</td>\n",
       "      <td>NaN</td>\n",
       "      <td>NaN</td>\n",
       "      <td>NaN</td>\n",
       "    </tr>\n",
       "    <tr>\n",
       "      <th>2011-01-02</th>\n",
       "      <td>0.00</td>\n",
       "      <td>65.178</td>\n",
       "      <td>13624240.0</td>\n",
       "      <td>62.029808</td>\n",
       "      <td>63.530997</td>\n",
       "      <td>62.419085</td>\n",
       "      <td>NaN</td>\n",
       "      <td>NaN</td>\n",
       "      <td>NaN</td>\n",
       "    </tr>\n",
       "    <tr>\n",
       "      <th>2011-01-03</th>\n",
       "      <td>0.78</td>\n",
       "      <td>65.178</td>\n",
       "      <td>13624240.0</td>\n",
       "      <td>61.995157</td>\n",
       "      <td>63.530997</td>\n",
       "      <td>62.366283</td>\n",
       "      <td>NaN</td>\n",
       "      <td>NaN</td>\n",
       "      <td>NaN</td>\n",
       "    </tr>\n",
       "    <tr>\n",
       "      <th>2011-01-04</th>\n",
       "      <td>11.66</td>\n",
       "      <td>65.178</td>\n",
       "      <td>13624240.0</td>\n",
       "      <td>61.991707</td>\n",
       "      <td>63.530997</td>\n",
       "      <td>62.268481</td>\n",
       "      <td>NaN</td>\n",
       "      <td>NaN</td>\n",
       "      <td>NaN</td>\n",
       "    </tr>\n",
       "    <tr>\n",
       "      <th>2011-01-05</th>\n",
       "      <td>3.81</td>\n",
       "      <td>65.178</td>\n",
       "      <td>13624240.0</td>\n",
       "      <td>62.014826</td>\n",
       "      <td>63.530997</td>\n",
       "      <td>62.175225</td>\n",
       "      <td>NaN</td>\n",
       "      <td>NaN</td>\n",
       "      <td>NaN</td>\n",
       "    </tr>\n",
       "    <tr>\n",
       "      <th>2011-01-06</th>\n",
       "      <td>0.45</td>\n",
       "      <td>65.178</td>\n",
       "      <td>13624240.0</td>\n",
       "      <td>62.010941</td>\n",
       "      <td>63.530997</td>\n",
       "      <td>62.336283</td>\n",
       "      <td>NaN</td>\n",
       "      <td>NaN</td>\n",
       "      <td>NaN</td>\n",
       "    </tr>\n",
       "    <tr>\n",
       "      <th>2011-01-07</th>\n",
       "      <td>2.19</td>\n",
       "      <td>65.178</td>\n",
       "      <td>13624240.0</td>\n",
       "      <td>62.009059</td>\n",
       "      <td>63.530997</td>\n",
       "      <td>62.422722</td>\n",
       "      <td>NaN</td>\n",
       "      <td>NaN</td>\n",
       "      <td>NaN</td>\n",
       "    </tr>\n",
       "    <tr>\n",
       "      <th>2011-01-08</th>\n",
       "      <td>0.00</td>\n",
       "      <td>65.178</td>\n",
       "      <td>13624240.0</td>\n",
       "      <td>62.058153</td>\n",
       "      <td>63.530997</td>\n",
       "      <td>62.398858</td>\n",
       "      <td>NaN</td>\n",
       "      <td>NaN</td>\n",
       "      <td>NaN</td>\n",
       "    </tr>\n",
       "    <tr>\n",
       "      <th>2011-01-09</th>\n",
       "      <td>0.00</td>\n",
       "      <td>65.178</td>\n",
       "      <td>13624240.0</td>\n",
       "      <td>62.029808</td>\n",
       "      <td>63.530997</td>\n",
       "      <td>62.303405</td>\n",
       "      <td>NaN</td>\n",
       "      <td>NaN</td>\n",
       "      <td>NaN</td>\n",
       "    </tr>\n",
       "    <tr>\n",
       "      <th>2011-01-10</th>\n",
       "      <td>0.00</td>\n",
       "      <td>65.178</td>\n",
       "      <td>13624240.0</td>\n",
       "      <td>61.995157</td>\n",
       "      <td>63.530997</td>\n",
       "      <td>62.199316</td>\n",
       "      <td>NaN</td>\n",
       "      <td>NaN</td>\n",
       "      <td>NaN</td>\n",
       "    </tr>\n",
       "  </tbody>\n",
       "</table>\n",
       "</div>"
      ],
      "text/plain": [
       "            ort_yagis   temiz  population  dayofweek      month  dayofmonth  \\\n",
       "2011-01-01       0.00  65.178  13624240.0  62.058153  63.530997   62.426510   \n",
       "2011-01-02       0.00  65.178  13624240.0  62.029808  63.530997   62.419085   \n",
       "2011-01-03       0.78  65.178  13624240.0  61.995157  63.530997   62.366283   \n",
       "2011-01-04      11.66  65.178  13624240.0  61.991707  63.530997   62.268481   \n",
       "2011-01-05       3.81  65.178  13624240.0  62.014826  63.530997   62.175225   \n",
       "2011-01-06       0.45  65.178  13624240.0  62.010941  63.530997   62.336283   \n",
       "2011-01-07       2.19  65.178  13624240.0  62.009059  63.530997   62.422722   \n",
       "2011-01-08       0.00  65.178  13624240.0  62.058153  63.530997   62.398858   \n",
       "2011-01-09       0.00  65.178  13624240.0  62.029808  63.530997   62.303405   \n",
       "2011-01-10       0.00  65.178  13624240.0  61.995157  63.530997   62.199316   \n",
       "\n",
       "            lag1  lag2  lag3  \n",
       "2011-01-01   NaN   NaN   NaN  \n",
       "2011-01-02   NaN   NaN   NaN  \n",
       "2011-01-03   NaN   NaN   NaN  \n",
       "2011-01-04   NaN   NaN   NaN  \n",
       "2011-01-05   NaN   NaN   NaN  \n",
       "2011-01-06   NaN   NaN   NaN  \n",
       "2011-01-07   NaN   NaN   NaN  \n",
       "2011-01-08   NaN   NaN   NaN  \n",
       "2011-01-09   NaN   NaN   NaN  \n",
       "2011-01-10   NaN   NaN   NaN  "
      ]
     },
     "execution_count": 38,
     "metadata": {},
     "output_type": "execute_result"
    }
   ],
   "source": [
    "X_train.head(10)"
   ]
  },
  {
   "cell_type": "code",
   "execution_count": 39,
   "id": "78ef22b9-fcea-4bd2-a9b0-59afc6d1b8c1",
   "metadata": {
    "tags": []
   },
   "outputs": [
    {
     "data": {
      "text/plain": [
       "2011-01-01    84.87\n",
       "2011-01-02    84.74\n",
       "2011-01-03    84.54\n",
       "2011-01-04    84.44\n",
       "2011-01-05    85.01\n",
       "Freq: D, Name: ort_dol, dtype: float64"
      ]
     },
     "execution_count": 39,
     "metadata": {},
     "output_type": "execute_result"
    }
   ],
   "source": [
    "y_train.head()"
   ]
  },
  {
   "cell_type": "code",
   "execution_count": 40,
   "id": "94db16f9-3741-433c-9947-439f2f5bddfc",
   "metadata": {
    "tags": []
   },
   "outputs": [
    {
     "data": {
      "text/plain": [
       "(4018, 4018)"
      ]
     },
     "execution_count": 40,
     "metadata": {},
     "output_type": "execute_result"
    }
   ],
   "source": [
    "len(X_train), len(y_train)"
   ]
  },
  {
   "cell_type": "code",
   "execution_count": 41,
   "id": "9b96e34b-5132-49d7-908f-f088732db634",
   "metadata": {
    "tags": []
   },
   "outputs": [
    {
     "data": {
      "text/html": [
       "<div>\n",
       "<style scoped>\n",
       "    .dataframe tbody tr th:only-of-type {\n",
       "        vertical-align: middle;\n",
       "    }\n",
       "\n",
       "    .dataframe tbody tr th {\n",
       "        vertical-align: top;\n",
       "    }\n",
       "\n",
       "    .dataframe thead th {\n",
       "        text-align: right;\n",
       "    }\n",
       "</style>\n",
       "<table border=\"1\" class=\"dataframe\">\n",
       "  <thead>\n",
       "    <tr style=\"text-align: right;\">\n",
       "      <th></th>\n",
       "      <th>ort_yagis</th>\n",
       "      <th>temiz</th>\n",
       "      <th>population</th>\n",
       "      <th>dayofweek</th>\n",
       "      <th>month</th>\n",
       "      <th>dayofmonth</th>\n",
       "      <th>lag1</th>\n",
       "      <th>lag2</th>\n",
       "      <th>lag3</th>\n",
       "    </tr>\n",
       "  </thead>\n",
       "  <tbody>\n",
       "    <tr>\n",
       "      <th>2022-01-01</th>\n",
       "      <td>0.06</td>\n",
       "      <td>88.812</td>\n",
       "      <td>15907951.0</td>\n",
       "      <td>62.058153</td>\n",
       "      <td>63.530997</td>\n",
       "      <td>62.426510</td>\n",
       "      <td>19.52</td>\n",
       "      <td>35.72</td>\n",
       "      <td>86.50</td>\n",
       "    </tr>\n",
       "    <tr>\n",
       "      <th>2022-01-02</th>\n",
       "      <td>1.21</td>\n",
       "      <td>88.812</td>\n",
       "      <td>15907951.0</td>\n",
       "      <td>62.029808</td>\n",
       "      <td>63.530997</td>\n",
       "      <td>62.419085</td>\n",
       "      <td>19.51</td>\n",
       "      <td>35.57</td>\n",
       "      <td>87.66</td>\n",
       "    </tr>\n",
       "    <tr>\n",
       "      <th>2022-01-03</th>\n",
       "      <td>0.85</td>\n",
       "      <td>88.812</td>\n",
       "      <td>15907951.0</td>\n",
       "      <td>61.995157</td>\n",
       "      <td>63.530997</td>\n",
       "      <td>62.366283</td>\n",
       "      <td>19.48</td>\n",
       "      <td>35.16</td>\n",
       "      <td>87.91</td>\n",
       "    </tr>\n",
       "    <tr>\n",
       "      <th>2022-01-04</th>\n",
       "      <td>0.00</td>\n",
       "      <td>88.812</td>\n",
       "      <td>15907951.0</td>\n",
       "      <td>61.991707</td>\n",
       "      <td>63.530997</td>\n",
       "      <td>62.268481</td>\n",
       "      <td>19.45</td>\n",
       "      <td>40.78</td>\n",
       "      <td>87.76</td>\n",
       "    </tr>\n",
       "    <tr>\n",
       "      <th>2022-01-05</th>\n",
       "      <td>0.00</td>\n",
       "      <td>88.812</td>\n",
       "      <td>15907951.0</td>\n",
       "      <td>62.014826</td>\n",
       "      <td>63.530997</td>\n",
       "      <td>62.175225</td>\n",
       "      <td>19.42</td>\n",
       "      <td>46.71</td>\n",
       "      <td>87.15</td>\n",
       "    </tr>\n",
       "    <tr>\n",
       "      <th>2022-01-06</th>\n",
       "      <td>0.00</td>\n",
       "      <td>88.812</td>\n",
       "      <td>15907951.0</td>\n",
       "      <td>62.010941</td>\n",
       "      <td>63.530997</td>\n",
       "      <td>62.336283</td>\n",
       "      <td>19.36</td>\n",
       "      <td>47.70</td>\n",
       "      <td>86.61</td>\n",
       "    </tr>\n",
       "    <tr>\n",
       "      <th>2022-01-07</th>\n",
       "      <td>0.00</td>\n",
       "      <td>88.812</td>\n",
       "      <td>15907951.0</td>\n",
       "      <td>62.009059</td>\n",
       "      <td>63.530997</td>\n",
       "      <td>62.422722</td>\n",
       "      <td>19.33</td>\n",
       "      <td>48.52</td>\n",
       "      <td>87.86</td>\n",
       "    </tr>\n",
       "    <tr>\n",
       "      <th>2022-01-08</th>\n",
       "      <td>4.16</td>\n",
       "      <td>88.812</td>\n",
       "      <td>15907951.0</td>\n",
       "      <td>62.058153</td>\n",
       "      <td>63.530997</td>\n",
       "      <td>62.398858</td>\n",
       "      <td>19.29</td>\n",
       "      <td>48.66</td>\n",
       "      <td>90.43</td>\n",
       "    </tr>\n",
       "    <tr>\n",
       "      <th>2022-01-09</th>\n",
       "      <td>0.46</td>\n",
       "      <td>88.812</td>\n",
       "      <td>15907951.0</td>\n",
       "      <td>62.029808</td>\n",
       "      <td>63.530997</td>\n",
       "      <td>62.303405</td>\n",
       "      <td>20.24</td>\n",
       "      <td>48.59</td>\n",
       "      <td>91.24</td>\n",
       "    </tr>\n",
       "    <tr>\n",
       "      <th>2022-01-10</th>\n",
       "      <td>0.25</td>\n",
       "      <td>88.812</td>\n",
       "      <td>15907951.0</td>\n",
       "      <td>61.995157</td>\n",
       "      <td>63.530997</td>\n",
       "      <td>62.199316</td>\n",
       "      <td>26.36</td>\n",
       "      <td>48.46</td>\n",
       "      <td>90.58</td>\n",
       "    </tr>\n",
       "  </tbody>\n",
       "</table>\n",
       "</div>"
      ],
      "text/plain": [
       "            ort_yagis   temiz  population  dayofweek      month  dayofmonth  \\\n",
       "2022-01-01       0.06  88.812  15907951.0  62.058153  63.530997   62.426510   \n",
       "2022-01-02       1.21  88.812  15907951.0  62.029808  63.530997   62.419085   \n",
       "2022-01-03       0.85  88.812  15907951.0  61.995157  63.530997   62.366283   \n",
       "2022-01-04       0.00  88.812  15907951.0  61.991707  63.530997   62.268481   \n",
       "2022-01-05       0.00  88.812  15907951.0  62.014826  63.530997   62.175225   \n",
       "2022-01-06       0.00  88.812  15907951.0  62.010941  63.530997   62.336283   \n",
       "2022-01-07       0.00  88.812  15907951.0  62.009059  63.530997   62.422722   \n",
       "2022-01-08       4.16  88.812  15907951.0  62.058153  63.530997   62.398858   \n",
       "2022-01-09       0.46  88.812  15907951.0  62.029808  63.530997   62.303405   \n",
       "2022-01-10       0.25  88.812  15907951.0  61.995157  63.530997   62.199316   \n",
       "\n",
       "             lag1   lag2   lag3  \n",
       "2022-01-01  19.52  35.72  86.50  \n",
       "2022-01-02  19.51  35.57  87.66  \n",
       "2022-01-03  19.48  35.16  87.91  \n",
       "2022-01-04  19.45  40.78  87.76  \n",
       "2022-01-05  19.42  46.71  87.15  \n",
       "2022-01-06  19.36  47.70  86.61  \n",
       "2022-01-07  19.33  48.52  87.86  \n",
       "2022-01-08  19.29  48.66  90.43  \n",
       "2022-01-09  20.24  48.59  91.24  \n",
       "2022-01-10  26.36  48.46  90.58  "
      ]
     },
     "execution_count": 41,
     "metadata": {},
     "output_type": "execute_result"
    }
   ],
   "source": [
    "X_test.head(10)"
   ]
  },
  {
   "cell_type": "code",
   "execution_count": 42,
   "id": "571a6fa9-3627-4454-b708-99bebf507f71",
   "metadata": {
    "tags": []
   },
   "outputs": [
    {
     "data": {
      "image/png": "[encoded data removed]",
      "text/plain": [
       "<Figure size 500x500 with 2 Axes>"
      ]
     },
     "metadata": {},
     "output_type": "display_data"
    }
   ],
   "source": [
    "plt.figure(figsize=(5,5))\n",
    "sns.heatmap(X_train.corr(), annot=True, vmin=-1, center=0, vmax=1, fmt=\".2f\",mask=np.triu(X_train.corr()),linewidths=0.3, cmap='RdYlGn');"
   ]
  },
  {
   "cell_type": "code",
   "execution_count": 43,
   "id": "557b153e-e054-4268-9611-520f2bd49b57",
   "metadata": {
    "tags": []
   },
   "outputs": [
    {
     "data": {
      "image/png": "[encoded data removed]",
      "text/plain": [
       "<Figure size 2000x500 with 1 Axes>"
      ]
     },
     "metadata": {},
     "output_type": "display_data"
    }
   ],
   "source": [
    "fig, ax = plt.subplots(figsize=(20, 5))\n",
    "sns.set_style(\"darkgrid\")\n",
    "train[\"ort_dol\"].plot(ax=ax,label='Train', title='Fill rate of İstanbul dams / train test split',color=\"blue\")\n",
    "test[\"ort_dol\"].plot(ax=ax, label='Test', color=\"darkorange\")\n",
    "ax.axvline('01-01-2022', color='black', ls='--')\n",
    "ax.legend(['Train set', 'Test set'], fontsize=\"17\")\n",
    "plt.show()"
   ]
  },
  {
   "cell_type": "markdown",
   "id": "f85f2b13-5c9a-4102-8726-2afd2dd19f9a",
   "metadata": {},
   "source": [
    "# Modelling with XGBRegressor"
   ]
  },
  {
   "cell_type": "code",
   "execution_count": 44,
   "id": "c77f663a-26d3-4eaa-b6e1-757f69130586",
   "metadata": {
    "tags": []
   },
   "outputs": [],
   "source": [
    "import xgboost as xgb\n",
    "from sklearn.metrics import mean_squared_error"
   ]
  },
  {
   "cell_type": "code",
   "execution_count": 45,
   "id": "2f8c59ca-bf51-46bf-822a-31a9c15db93a",
   "metadata": {
    "tags": []
   },
   "outputs": [
    {
     "name": "stdout",
     "output_type": "stream",
     "text": [
      "[14:13:11] WARNING: C:\\buildkite-agent\\builds\\buildkite-windows-cpu-autoscaling-group-i-07593ffd91cd9da33-1\\xgboost\\xgboost-ci-windows\\src\\objective\\regression_obj.cu:213: reg:linear is now deprecated in favor of reg:squarederror.\n"
     ]
    },
    {
     "data": {
      "text/html": [
       "<style>#sk-container-id-1 {color: black;background-color: white;}#sk-container-id-1 pre{padding: 0;}#sk-container-id-1 div.sk-toggleable {background-color: white;}#sk-container-id-1 label.sk-toggleable__label {cursor: pointer;display: block;width: 100%;margin-bottom: 0;padding: 0.3em;box-sizing: border-box;text-align: center;}#sk-container-id-1 label.sk-toggleable__label-arrow:before {content: \"▸\";float: left;margin-right: 0.25em;color: #696969;}#sk-container-id-1 label.sk-toggleable__label-arrow:hover:before {color: black;}#sk-container-id-1 div.sk-estimator:hover label.sk-toggleable__label-arrow:before {color: black;}#sk-container-id-1 div.sk-toggleable__content {max-height: 0;max-width: 0;overflow: hidden;text-align: left;background-color: #f0f8ff;}#sk-container-id-1 div.sk-toggleable__content pre {margin: 0.2em;color: black;border-radius: 0.25em;background-color: #f0f8ff;}#sk-container-id-1 input.sk-toggleable__control:checked~div.sk-toggleable__content {max-height: 200px;max-width: 100%;overflow: auto;}#sk-container-id-1 input.sk-toggleable__control:checked~label.sk-toggleable__label-arrow:before {content: \"▾\";}#sk-container-id-1 div.sk-estimator input.sk-toggleable__control:checked~label.sk-toggleable__label {background-color: #d4ebff;}#sk-container-id-1 div.sk-label input.sk-toggleable__control:checked~label.sk-toggleable__label {background-color: #d4ebff;}#sk-container-id-1 input.sk-hidden--visually {border: 0;clip: rect(1px 1px 1px 1px);clip: rect(1px, 1px, 1px, 1px);height: 1px;margin: -1px;overflow: hidden;padding: 0;position: absolute;width: 1px;}#sk-container-id-1 div.sk-estimator {font-family: monospace;background-color: #f0f8ff;border: 1px dotted black;border-radius: 0.25em;box-sizing: border-box;margin-bottom: 0.5em;}#sk-container-id-1 div.sk-estimator:hover {background-color: #d4ebff;}#sk-container-id-1 div.sk-parallel-item::after {content: \"\";width: 100%;border-bottom: 1px solid gray;flex-grow: 1;}#sk-container-id-1 div.sk-label:hover label.sk-toggleable__label {background-color: #d4ebff;}#sk-container-id-1 div.sk-serial::before {content: \"\";position: absolute;border-left: 1px solid gray;box-sizing: border-box;top: 0;bottom: 0;left: 50%;z-index: 0;}#sk-container-id-1 div.sk-serial {display: flex;flex-direction: column;align-items: center;background-color: white;padding-right: 0.2em;padding-left: 0.2em;position: relative;}#sk-container-id-1 div.sk-item {position: relative;z-index: 1;}#sk-container-id-1 div.sk-parallel {display: flex;align-items: stretch;justify-content: center;background-color: white;position: relative;}#sk-container-id-1 div.sk-item::before, #sk-container-id-1 div.sk-parallel-item::before {content: \"\";position: absolute;border-left: 1px solid gray;box-sizing: border-box;top: 0;bottom: 0;left: 50%;z-index: -1;}#sk-container-id-1 div.sk-parallel-item {display: flex;flex-direction: column;z-index: 1;position: relative;background-color: white;}#sk-container-id-1 div.sk-parallel-item:first-child::after {align-self: flex-end;width: 50%;}#sk-container-id-1 div.sk-parallel-item:last-child::after {align-self: flex-start;width: 50%;}#sk-container-id-1 div.sk-parallel-item:only-child::after {width: 0;}#sk-container-id-1 div.sk-dashed-wrapped {border: 1px dashed gray;margin: 0 0.4em 0.5em 0.4em;box-sizing: border-box;padding-bottom: 0.4em;background-color: white;}#sk-container-id-1 div.sk-label label {font-family: monospace;font-weight: bold;display: inline-block;line-height: 1.2em;}#sk-container-id-1 div.sk-label-container {text-align: center;}#sk-container-id-1 div.sk-container {/* jupyter's `normalize.less` sets `[hidden] { display: none; }` but bootstrap.min.css set `[hidden] { display: none !important; }` so we also need the `!important` here to be able to override the default hidden behavior on the sphinx rendered scikit-learn.org. See: https://github.com/scikit-learn/scikit-learn/issues/21755 */display: inline-block !important;position: relative;}#sk-container-id-1 div.sk-text-repr-fallback {display: none;}</style><div id=\"sk-container-id-1\" class=\"sk-top-container\"><div class=\"sk-text-repr-fallback\"><pre>XGBRegressor(base_score=2, booster=&#x27;gbtree&#x27;, callbacks=None,\n",
       "             colsample_bylevel=None, colsample_bynode=None,\n",
       "             colsample_bytree=None, early_stopping_rounds=None,\n",
       "             enable_categorical=False, eval_metric=None, feature_types=None,\n",
       "             gamma=None, gpu_id=None, grow_policy=None, importance_type=None,\n",
       "             interaction_constraints=None, learning_rate=0.1, max_bin=None,\n",
       "             max_cat_threshold=None, max_cat_to_onehot=None,\n",
       "             max_delta_step=None, max_depth=3, max_leaves=None,\n",
       "             min_child_weight=None, missing=nan, monotone_constraints=None,\n",
       "             n_estimators=4000, n_jobs=None, num_parallel_tree=None,\n",
       "             objective=&#x27;reg:linear&#x27;, predictor=None, ...)</pre><b>In a Jupyter environment, please rerun this cell to show the HTML representation or trust the notebook. <br />On GitHub, the HTML representation is unable to render, please try loading this page with nbviewer.org.</b></div><div class=\"sk-container\" hidden><div class=\"sk-item\"><div class=\"sk-estimator sk-toggleable\"><input class=\"sk-toggleable__control sk-hidden--visually\" id=\"sk-estimator-id-1\" type=\"checkbox\" checked><label for=\"sk-estimator-id-1\" class=\"sk-toggleable__label sk-toggleable__label-arrow\">XGBRegressor</label><div class=\"sk-toggleable__content\"><pre>XGBRegressor(base_score=2, booster=&#x27;gbtree&#x27;, callbacks=None,\n",
       "             colsample_bylevel=None, colsample_bynode=None,\n",
       "             colsample_bytree=None, early_stopping_rounds=None,\n",
       "             enable_categorical=False, eval_metric=None, feature_types=None,\n",
       "             gamma=None, gpu_id=None, grow_policy=None, importance_type=None,\n",
       "             interaction_constraints=None, learning_rate=0.1, max_bin=None,\n",
       "             max_cat_threshold=None, max_cat_to_onehot=None,\n",
       "             max_delta_step=None, max_depth=3, max_leaves=None,\n",
       "             min_child_weight=None, missing=nan, monotone_constraints=None,\n",
       "             n_estimators=4000, n_jobs=None, num_parallel_tree=None,\n",
       "             objective=&#x27;reg:linear&#x27;, predictor=None, ...)</pre></div></div></div></div></div>"
      ],
      "text/plain": [
       "XGBRegressor(base_score=2, booster='gbtree', callbacks=None,\n",
       "             colsample_bylevel=None, colsample_bynode=None,\n",
       "             colsample_bytree=None, early_stopping_rounds=None,\n",
       "             enable_categorical=False, eval_metric=None, feature_types=None,\n",
       "             gamma=None, gpu_id=None, grow_policy=None, importance_type=None,\n",
       "             interaction_constraints=None, learning_rate=0.1, max_bin=None,\n",
       "             max_cat_threshold=None, max_cat_to_onehot=None,\n",
       "             max_delta_step=None, max_depth=3, max_leaves=None,\n",
       "             min_child_weight=None, missing=nan, monotone_constraints=None,\n",
       "             n_estimators=4000, n_jobs=None, num_parallel_tree=None,\n",
       "             objective='reg:linear', predictor=None, ...)"
      ]
     },
     "execution_count": 45,
     "metadata": {},
     "output_type": "execute_result"
    }
   ],
   "source": [
    "from xgboost import XGBRegressor\n",
    "xgb= XGBRegressor(objective= 'reg:linear',\n",
    " n_estimators= 4000,\n",
    " max_depth= 3,\n",
    " learning_rate= 0.1,\n",
    " booster= 'gbtree',\n",
    " base_score= 2)\n",
    "xgb.fit(X_train, y_train)"
   ]
  },
  {
   "cell_type": "code",
   "execution_count": 46,
   "id": "ce7338a2-aa6f-4166-81d5-3017412bfbfa",
   "metadata": {
    "tags": []
   },
   "outputs": [],
   "source": [
    "y_pred=xgb.predict(X_test)"
   ]
  },
  {
   "cell_type": "code",
   "execution_count": 47,
   "id": "15e7e25b-7eb4-4f6a-9dba-524a7863fc6a",
   "metadata": {
    "tags": []
   },
   "outputs": [],
   "source": [
    "tablo=pd.DataFrame({\"y\":y_test, \"y_hat\":y_pred}, index=X_test.index)"
   ]
  },
  {
   "cell_type": "markdown",
   "id": "db115171-b525-4250-bec7-1ccaba1668f0",
   "metadata": {},
   "source": [
    "## Estimate on Test data"
   ]
  },
  {
   "cell_type": "code",
   "execution_count": 48,
   "id": "7a919dee-1dd5-4dc7-a0e5-6da4127c778a",
   "metadata": {
    "tags": []
   },
   "outputs": [
    {
     "data": {
      "image/png": "[encoded data removed]",
      "text/plain": [
       "<Figure size 2000x500 with 1 Axes>"
      ]
     },
     "metadata": {},
     "output_type": "display_data"
    }
   ],
   "source": [
    "plt.figure(figsize=(20,5))\n",
    "sns.set_style(\"darkgrid\")\n",
    "sns.lineplot(tablo, x=tablo.index, y=\"y\", color=\"blue\")\n",
    "sns.lineplot(tablo, x=tablo.index, y=\"y_hat\", color=\"darkorange\")\n",
    "plt.title(\"2022 yılı için test datası üzerinde tahminleme\")\n",
    "plt.legend([\"actual\"], fontsize=\"15\")\n",
    "plt.show()"
   ]
  },
  {
   "cell_type": "code",
   "execution_count": 49,
   "id": "e33d1f45-2824-40ce-900e-bf72bf933aed",
   "metadata": {
    "tags": []
   },
   "outputs": [
    {
     "name": "stdout",
     "output_type": "stream",
     "text": [
      "train score: 0.9996\n",
      "test score: 0.8778\n",
      "---------------------------------------\n",
      "mae: 5.29\n",
      "mse: 57.34\n",
      "rmse:7.57\n",
      "mape: 9.9\n"
     ]
    }
   ],
   "source": [
    "print(f\"train score: {round(xgb.score(X_train, y_train),4)}\")\n",
    "print(f\"test score: {round(xgb.score(X_test, y_test),4)}\")\n",
    "print(\"---------------------------------------\")\n",
    "print(f\"mae: {round(mean_absolute_error(y_test, y_pred),2)}\")\n",
    "print(f\"mse: {round(mean_squared_error(y_test, y_pred),2)}\")\n",
    "print(f\"rmse:{round(np.sqrt(mean_squared_error(y_test, y_pred)),2)}\")\n",
    "print(f\"mape: {round(np.mean(np.abs((y_test - y_pred) / y_test)) * 100,2)}\")"
   ]
  },
  {
   "cell_type": "code",
   "execution_count": 50,
   "id": "bac827b7-df2b-4320-9fc5-3e1cb6837424",
   "metadata": {
    "tags": []
   },
   "outputs": [
    {
     "data": {
      "image/png": "[encoded data removed]",
      "text/plain": [
       "<Figure size 640x480 with 1 Axes>"
      ]
     },
     "metadata": {},
     "output_type": "display_data"
    }
   ],
   "source": [
    "from xgboost import plot_importance\n",
    "plot_importance(xgb);"
   ]
  },
  {
   "cell_type": "code",
   "execution_count": 51,
   "id": "c744d221-edb1-4b49-916b-1cf9c9914c0f",
   "metadata": {
    "tags": []
   },
   "outputs": [
    {
     "data": {
      "image/png": "[encoded data removed]",
      "text/plain": [
       "<Figure size 500x300 with 1 Axes>"
      ]
     },
     "metadata": {},
     "output_type": "display_data"
    }
   ],
   "source": [
    "TAB=pd.DataFrame({\"importances\":xgb.feature_importances_}, index=X_train.columns)\n",
    "TAB.sort_values(by=\"importances\").plot(kind=\"barh\", color=\"darkorange\",figsize=(5,3));"
   ]
  },
  {
   "cell_type": "code",
   "execution_count": 52,
   "id": "ca47e99c-d717-4afd-987f-1a36fbf8828f",
   "metadata": {
    "tags": []
   },
   "outputs": [
    {
     "data": {
      "image/png": "[encoded data removed]",
      "text/plain": [
       "<Figure size 2000x500 with 1 Axes>"
      ]
     },
     "metadata": {},
     "output_type": "display_data"
    }
   ],
   "source": [
    "plt.figure(figsize=(20,5))\n",
    "sns.set_style(\"darkgrid\")\n",
    "sns.lineplot(df, x=df.index, y=\"ort_dol\", color=\"b\")\n",
    "sns.lineplot(tablo, x=tablo.index, y=\"y_hat\", color=\"darkorange\")\n",
    "plt.title(\"Test datası üzerinde tahminleme\")\n",
    "plt.legend([\"y\",\"y_hat\"]);"
   ]
  },
  {
   "cell_type": "markdown",
   "id": "a65dbd12-000f-48c6-81c8-4e634e610b22",
   "metadata": {},
   "source": [
    "# 2023 nisan - 2024 nisan dönemi için geleceğe yönelik tahminleme"
   ]
  },
  {
   "cell_type": "code",
   "execution_count": 53,
   "id": "0065e12a-b48d-4cec-a2a9-ad1608370f72",
   "metadata": {
    "tags": []
   },
   "outputs": [
    {
     "data": {
      "text/html": [
       "<div>\n",
       "<style scoped>\n",
       "    .dataframe tbody tr th:only-of-type {\n",
       "        vertical-align: middle;\n",
       "    }\n",
       "\n",
       "    .dataframe tbody tr th {\n",
       "        vertical-align: top;\n",
       "    }\n",
       "\n",
       "    .dataframe thead th {\n",
       "        text-align: right;\n",
       "    }\n",
       "</style>\n",
       "<table border=\"1\" class=\"dataframe\">\n",
       "  <thead>\n",
       "    <tr style=\"text-align: right;\">\n",
       "      <th></th>\n",
       "      <th>ort_dol</th>\n",
       "      <th>ort_yagis</th>\n",
       "      <th>ort_tuketim</th>\n",
       "      <th>temiz</th>\n",
       "      <th>population</th>\n",
       "      <th>dayofweek</th>\n",
       "      <th>month</th>\n",
       "      <th>year</th>\n",
       "      <th>dayofyear</th>\n",
       "      <th>dayofmonth</th>\n",
       "      <th>quarter</th>\n",
       "      <th>weekofyear</th>\n",
       "      <th>lag1</th>\n",
       "      <th>lag2</th>\n",
       "      <th>lag3</th>\n",
       "    </tr>\n",
       "  </thead>\n",
       "  <tbody>\n",
       "    <tr>\n",
       "      <th>2011-01-01</th>\n",
       "      <td>84.87</td>\n",
       "      <td>0.00</td>\n",
       "      <td>13487570.79</td>\n",
       "      <td>65.178</td>\n",
       "      <td>13624240.0</td>\n",
       "      <td>6</td>\n",
       "      <td>1</td>\n",
       "      <td>2011</td>\n",
       "      <td>1</td>\n",
       "      <td>1</td>\n",
       "      <td>1</td>\n",
       "      <td>52</td>\n",
       "      <td>NaN</td>\n",
       "      <td>NaN</td>\n",
       "      <td>NaN</td>\n",
       "    </tr>\n",
       "    <tr>\n",
       "      <th>2011-01-02</th>\n",
       "      <td>84.74</td>\n",
       "      <td>0.00</td>\n",
       "      <td>13487570.79</td>\n",
       "      <td>65.178</td>\n",
       "      <td>13624240.0</td>\n",
       "      <td>7</td>\n",
       "      <td>1</td>\n",
       "      <td>2011</td>\n",
       "      <td>2</td>\n",
       "      <td>2</td>\n",
       "      <td>1</td>\n",
       "      <td>52</td>\n",
       "      <td>NaN</td>\n",
       "      <td>NaN</td>\n",
       "      <td>NaN</td>\n",
       "    </tr>\n",
       "    <tr>\n",
       "      <th>2011-01-03</th>\n",
       "      <td>84.54</td>\n",
       "      <td>0.78</td>\n",
       "      <td>13487570.79</td>\n",
       "      <td>65.178</td>\n",
       "      <td>13624240.0</td>\n",
       "      <td>1</td>\n",
       "      <td>1</td>\n",
       "      <td>2011</td>\n",
       "      <td>3</td>\n",
       "      <td>3</td>\n",
       "      <td>1</td>\n",
       "      <td>1</td>\n",
       "      <td>NaN</td>\n",
       "      <td>NaN</td>\n",
       "      <td>NaN</td>\n",
       "    </tr>\n",
       "    <tr>\n",
       "      <th>2011-01-04</th>\n",
       "      <td>84.44</td>\n",
       "      <td>11.66</td>\n",
       "      <td>13487570.79</td>\n",
       "      <td>65.178</td>\n",
       "      <td>13624240.0</td>\n",
       "      <td>2</td>\n",
       "      <td>1</td>\n",
       "      <td>2011</td>\n",
       "      <td>4</td>\n",
       "      <td>4</td>\n",
       "      <td>1</td>\n",
       "      <td>1</td>\n",
       "      <td>NaN</td>\n",
       "      <td>NaN</td>\n",
       "      <td>NaN</td>\n",
       "    </tr>\n",
       "    <tr>\n",
       "      <th>2011-01-05</th>\n",
       "      <td>85.01</td>\n",
       "      <td>3.81</td>\n",
       "      <td>13487570.79</td>\n",
       "      <td>65.178</td>\n",
       "      <td>13624240.0</td>\n",
       "      <td>3</td>\n",
       "      <td>1</td>\n",
       "      <td>2011</td>\n",
       "      <td>5</td>\n",
       "      <td>5</td>\n",
       "      <td>1</td>\n",
       "      <td>1</td>\n",
       "      <td>NaN</td>\n",
       "      <td>NaN</td>\n",
       "      <td>NaN</td>\n",
       "    </tr>\n",
       "  </tbody>\n",
       "</table>\n",
       "</div>"
      ],
      "text/plain": [
       "            ort_dol  ort_yagis  ort_tuketim   temiz  population  dayofweek  \\\n",
       "2011-01-01    84.87       0.00  13487570.79  65.178  13624240.0          6   \n",
       "2011-01-02    84.74       0.00  13487570.79  65.178  13624240.0          7   \n",
       "2011-01-03    84.54       0.78  13487570.79  65.178  13624240.0          1   \n",
       "2011-01-04    84.44      11.66  13487570.79  65.178  13624240.0          2   \n",
       "2011-01-05    85.01       3.81  13487570.79  65.178  13624240.0          3   \n",
       "\n",
       "            month  year  dayofyear  dayofmonth  quarter  weekofyear  lag1  \\\n",
       "2011-01-01      1  2011          1           1        1          52   NaN   \n",
       "2011-01-02      1  2011          2           2        1          52   NaN   \n",
       "2011-01-03      1  2011          3           3        1           1   NaN   \n",
       "2011-01-04      1  2011          4           4        1           1   NaN   \n",
       "2011-01-05      1  2011          5           5        1           1   NaN   \n",
       "\n",
       "            lag2  lag3  \n",
       "2011-01-01   NaN   NaN  \n",
       "2011-01-02   NaN   NaN  \n",
       "2011-01-03   NaN   NaN  \n",
       "2011-01-04   NaN   NaN  \n",
       "2011-01-05   NaN   NaN  "
      ]
     },
     "execution_count": 53,
     "metadata": {},
     "output_type": "execute_result"
    }
   ],
   "source": [
    "df.head()"
   ]
  },
  {
   "cell_type": "code",
   "execution_count": 54,
   "id": "8ce776e8-f048-43d9-81db-4f757eb6cfd8",
   "metadata": {
    "tags": []
   },
   "outputs": [],
   "source": [
    "from datetime import datetime\n",
    "future=pd.date_range(\"2023-04-01\",\"2024-03-31\")"
   ]
  },
  {
   "cell_type": "code",
   "execution_count": 55,
   "id": "02e84269-0b83-4441-b35d-eefc7ef348f8",
   "metadata": {
    "tags": []
   },
   "outputs": [],
   "source": [
    "future=future.to_frame()"
   ]
  },
  {
   "cell_type": "code",
   "execution_count": 56,
   "id": "e859b2c6-cf99-4515-aaf2-b7a352237d41",
   "metadata": {
    "tags": []
   },
   "outputs": [],
   "source": [
    "future[\"target\"]=True"
   ]
  },
  {
   "cell_type": "code",
   "execution_count": 57,
   "id": "8255770d-b4e8-4c66-976e-05bb67818ed8",
   "metadata": {
    "tags": []
   },
   "outputs": [],
   "source": [
    "future.drop(0,1,inplace=True)"
   ]
  },
  {
   "cell_type": "code",
   "execution_count": 58,
   "id": "805f1e53-feaa-42fc-a503-cfc79dc3c87c",
   "metadata": {
    "tags": []
   },
   "outputs": [
    {
     "data": {
      "text/html": [
       "<div>\n",
       "<style scoped>\n",
       "    .dataframe tbody tr th:only-of-type {\n",
       "        vertical-align: middle;\n",
       "    }\n",
       "\n",
       "    .dataframe tbody tr th {\n",
       "        vertical-align: top;\n",
       "    }\n",
       "\n",
       "    .dataframe thead th {\n",
       "        text-align: right;\n",
       "    }\n",
       "</style>\n",
       "<table border=\"1\" class=\"dataframe\">\n",
       "  <thead>\n",
       "    <tr style=\"text-align: right;\">\n",
       "      <th></th>\n",
       "      <th>target</th>\n",
       "    </tr>\n",
       "  </thead>\n",
       "  <tbody>\n",
       "    <tr>\n",
       "      <th>2023-04-01</th>\n",
       "      <td>True</td>\n",
       "    </tr>\n",
       "    <tr>\n",
       "      <th>2023-04-02</th>\n",
       "      <td>True</td>\n",
       "    </tr>\n",
       "    <tr>\n",
       "      <th>2023-04-03</th>\n",
       "      <td>True</td>\n",
       "    </tr>\n",
       "    <tr>\n",
       "      <th>2023-04-04</th>\n",
       "      <td>True</td>\n",
       "    </tr>\n",
       "    <tr>\n",
       "      <th>2023-04-05</th>\n",
       "      <td>True</td>\n",
       "    </tr>\n",
       "  </tbody>\n",
       "</table>\n",
       "</div>"
      ],
      "text/plain": [
       "            target\n",
       "2023-04-01    True\n",
       "2023-04-02    True\n",
       "2023-04-03    True\n",
       "2023-04-04    True\n",
       "2023-04-05    True"
      ]
     },
     "execution_count": 58,
     "metadata": {},
     "output_type": "execute_result"
    }
   ],
   "source": [
    "future.head()"
   ]
  },
  {
   "cell_type": "code",
   "execution_count": 59,
   "id": "ac7d3310-c56c-487f-ab5a-4f50bcfc8161",
   "metadata": {
    "tags": []
   },
   "outputs": [],
   "source": [
    "df[\"target\"]=False"
   ]
  },
  {
   "cell_type": "code",
   "execution_count": 60,
   "id": "9c8e2185-b0f2-4a16-bdbf-d929b0a88d66",
   "metadata": {
    "tags": []
   },
   "outputs": [],
   "source": [
    "df_and_future=pd.concat([df, future])"
   ]
  },
  {
   "cell_type": "code",
   "execution_count": 61,
   "id": "f5af2d15-c6de-42cc-843c-5f2b348470d1",
   "metadata": {
    "tags": []
   },
   "outputs": [],
   "source": [
    "df_and_future = create_features(df_and_future)\n",
    "df_and_future = add_lags(df_and_future)"
   ]
  },
  {
   "cell_type": "code",
   "execution_count": 62,
   "id": "df3206ff-1d5a-47d8-9382-c70b1471fd6a",
   "metadata": {
    "tags": []
   },
   "outputs": [
    {
     "data": {
      "text/html": [
       "<div>\n",
       "<style scoped>\n",
       "    .dataframe tbody tr th:only-of-type {\n",
       "        vertical-align: middle;\n",
       "    }\n",
       "\n",
       "    .dataframe tbody tr th {\n",
       "        vertical-align: top;\n",
       "    }\n",
       "\n",
       "    .dataframe thead th {\n",
       "        text-align: right;\n",
       "    }\n",
       "</style>\n",
       "<table border=\"1\" class=\"dataframe\">\n",
       "  <thead>\n",
       "    <tr style=\"text-align: right;\">\n",
       "      <th></th>\n",
       "      <th>ort_dol</th>\n",
       "      <th>ort_yagis</th>\n",
       "      <th>ort_tuketim</th>\n",
       "      <th>temiz</th>\n",
       "      <th>population</th>\n",
       "      <th>dayofweek</th>\n",
       "      <th>month</th>\n",
       "      <th>year</th>\n",
       "      <th>dayofyear</th>\n",
       "      <th>dayofmonth</th>\n",
       "      <th>quarter</th>\n",
       "      <th>weekofyear</th>\n",
       "      <th>lag1</th>\n",
       "      <th>lag2</th>\n",
       "      <th>lag3</th>\n",
       "      <th>target</th>\n",
       "    </tr>\n",
       "  </thead>\n",
       "  <tbody>\n",
       "    <tr>\n",
       "      <th>2011-01-01</th>\n",
       "      <td>84.87</td>\n",
       "      <td>0.00</td>\n",
       "      <td>13487570.79</td>\n",
       "      <td>65.178</td>\n",
       "      <td>13624240.0</td>\n",
       "      <td>5</td>\n",
       "      <td>1</td>\n",
       "      <td>2011</td>\n",
       "      <td>1</td>\n",
       "      <td>1</td>\n",
       "      <td>1</td>\n",
       "      <td>52</td>\n",
       "      <td>NaN</td>\n",
       "      <td>NaN</td>\n",
       "      <td>NaN</td>\n",
       "      <td>False</td>\n",
       "    </tr>\n",
       "    <tr>\n",
       "      <th>2011-01-02</th>\n",
       "      <td>84.74</td>\n",
       "      <td>0.00</td>\n",
       "      <td>13487570.79</td>\n",
       "      <td>65.178</td>\n",
       "      <td>13624240.0</td>\n",
       "      <td>6</td>\n",
       "      <td>1</td>\n",
       "      <td>2011</td>\n",
       "      <td>2</td>\n",
       "      <td>2</td>\n",
       "      <td>1</td>\n",
       "      <td>52</td>\n",
       "      <td>NaN</td>\n",
       "      <td>NaN</td>\n",
       "      <td>NaN</td>\n",
       "      <td>False</td>\n",
       "    </tr>\n",
       "    <tr>\n",
       "      <th>2011-01-03</th>\n",
       "      <td>84.54</td>\n",
       "      <td>0.78</td>\n",
       "      <td>13487570.79</td>\n",
       "      <td>65.178</td>\n",
       "      <td>13624240.0</td>\n",
       "      <td>0</td>\n",
       "      <td>1</td>\n",
       "      <td>2011</td>\n",
       "      <td>3</td>\n",
       "      <td>3</td>\n",
       "      <td>1</td>\n",
       "      <td>1</td>\n",
       "      <td>NaN</td>\n",
       "      <td>NaN</td>\n",
       "      <td>NaN</td>\n",
       "      <td>False</td>\n",
       "    </tr>\n",
       "    <tr>\n",
       "      <th>2011-01-04</th>\n",
       "      <td>84.44</td>\n",
       "      <td>11.66</td>\n",
       "      <td>13487570.79</td>\n",
       "      <td>65.178</td>\n",
       "      <td>13624240.0</td>\n",
       "      <td>1</td>\n",
       "      <td>1</td>\n",
       "      <td>2011</td>\n",
       "      <td>4</td>\n",
       "      <td>4</td>\n",
       "      <td>1</td>\n",
       "      <td>1</td>\n",
       "      <td>NaN</td>\n",
       "      <td>NaN</td>\n",
       "      <td>NaN</td>\n",
       "      <td>False</td>\n",
       "    </tr>\n",
       "    <tr>\n",
       "      <th>2011-01-05</th>\n",
       "      <td>85.01</td>\n",
       "      <td>3.81</td>\n",
       "      <td>13487570.79</td>\n",
       "      <td>65.178</td>\n",
       "      <td>13624240.0</td>\n",
       "      <td>2</td>\n",
       "      <td>1</td>\n",
       "      <td>2011</td>\n",
       "      <td>5</td>\n",
       "      <td>5</td>\n",
       "      <td>1</td>\n",
       "      <td>1</td>\n",
       "      <td>NaN</td>\n",
       "      <td>NaN</td>\n",
       "      <td>NaN</td>\n",
       "      <td>False</td>\n",
       "    </tr>\n",
       "  </tbody>\n",
       "</table>\n",
       "</div>"
      ],
      "text/plain": [
       "            ort_dol  ort_yagis  ort_tuketim   temiz  population  dayofweek  \\\n",
       "2011-01-01    84.87       0.00  13487570.79  65.178  13624240.0          5   \n",
       "2011-01-02    84.74       0.00  13487570.79  65.178  13624240.0          6   \n",
       "2011-01-03    84.54       0.78  13487570.79  65.178  13624240.0          0   \n",
       "2011-01-04    84.44      11.66  13487570.79  65.178  13624240.0          1   \n",
       "2011-01-05    85.01       3.81  13487570.79  65.178  13624240.0          2   \n",
       "\n",
       "            month  year  dayofyear  dayofmonth  quarter  weekofyear  lag1  \\\n",
       "2011-01-01      1  2011          1           1        1          52   NaN   \n",
       "2011-01-02      1  2011          2           2        1          52   NaN   \n",
       "2011-01-03      1  2011          3           3        1           1   NaN   \n",
       "2011-01-04      1  2011          4           4        1           1   NaN   \n",
       "2011-01-05      1  2011          5           5        1           1   NaN   \n",
       "\n",
       "            lag2  lag3  target  \n",
       "2011-01-01   NaN   NaN   False  \n",
       "2011-01-02   NaN   NaN   False  \n",
       "2011-01-03   NaN   NaN   False  \n",
       "2011-01-04   NaN   NaN   False  \n",
       "2011-01-05   NaN   NaN   False  "
      ]
     },
     "execution_count": 62,
     "metadata": {},
     "output_type": "execute_result"
    }
   ],
   "source": [
    "df_and_future.head()"
   ]
  },
  {
   "cell_type": "code",
   "execution_count": 63,
   "id": "23d87c9d-8bcc-4090-a090-0fe025853e46",
   "metadata": {
    "tags": []
   },
   "outputs": [],
   "source": [
    "future_w_features = df_and_future.query('target').copy()"
   ]
  },
  {
   "cell_type": "code",
   "execution_count": 64,
   "id": "47cff394-230f-4a07-a59b-1796b2dc1428",
   "metadata": {
    "tags": []
   },
   "outputs": [
    {
     "data": {
      "text/html": [
       "<div>\n",
       "<style scoped>\n",
       "    .dataframe tbody tr th:only-of-type {\n",
       "        vertical-align: middle;\n",
       "    }\n",
       "\n",
       "    .dataframe tbody tr th {\n",
       "        vertical-align: top;\n",
       "    }\n",
       "\n",
       "    .dataframe thead th {\n",
       "        text-align: right;\n",
       "    }\n",
       "</style>\n",
       "<table border=\"1\" class=\"dataframe\">\n",
       "  <thead>\n",
       "    <tr style=\"text-align: right;\">\n",
       "      <th></th>\n",
       "      <th>ort_dol</th>\n",
       "      <th>ort_yagis</th>\n",
       "      <th>ort_tuketim</th>\n",
       "      <th>temiz</th>\n",
       "      <th>population</th>\n",
       "      <th>dayofweek</th>\n",
       "      <th>month</th>\n",
       "      <th>year</th>\n",
       "      <th>dayofyear</th>\n",
       "      <th>dayofmonth</th>\n",
       "      <th>quarter</th>\n",
       "      <th>weekofyear</th>\n",
       "      <th>lag1</th>\n",
       "      <th>lag2</th>\n",
       "      <th>lag3</th>\n",
       "      <th>target</th>\n",
       "    </tr>\n",
       "  </thead>\n",
       "  <tbody>\n",
       "    <tr>\n",
       "      <th>2023-04-01</th>\n",
       "      <td>NaN</td>\n",
       "      <td>NaN</td>\n",
       "      <td>NaN</td>\n",
       "      <td>NaN</td>\n",
       "      <td>NaN</td>\n",
       "      <td>5</td>\n",
       "      <td>4</td>\n",
       "      <td>2023</td>\n",
       "      <td>91</td>\n",
       "      <td>1</td>\n",
       "      <td>2</td>\n",
       "      <td>13</td>\n",
       "      <td>90.12</td>\n",
       "      <td>67.56</td>\n",
       "      <td>54.30</td>\n",
       "      <td>True</td>\n",
       "    </tr>\n",
       "    <tr>\n",
       "      <th>2023-04-02</th>\n",
       "      <td>NaN</td>\n",
       "      <td>NaN</td>\n",
       "      <td>NaN</td>\n",
       "      <td>NaN</td>\n",
       "      <td>NaN</td>\n",
       "      <td>6</td>\n",
       "      <td>4</td>\n",
       "      <td>2023</td>\n",
       "      <td>92</td>\n",
       "      <td>2</td>\n",
       "      <td>2</td>\n",
       "      <td>13</td>\n",
       "      <td>90.09</td>\n",
       "      <td>67.44</td>\n",
       "      <td>54.81</td>\n",
       "      <td>True</td>\n",
       "    </tr>\n",
       "    <tr>\n",
       "      <th>2023-04-03</th>\n",
       "      <td>NaN</td>\n",
       "      <td>NaN</td>\n",
       "      <td>NaN</td>\n",
       "      <td>NaN</td>\n",
       "      <td>NaN</td>\n",
       "      <td>0</td>\n",
       "      <td>4</td>\n",
       "      <td>2023</td>\n",
       "      <td>93</td>\n",
       "      <td>3</td>\n",
       "      <td>2</td>\n",
       "      <td>14</td>\n",
       "      <td>90.23</td>\n",
       "      <td>70.23</td>\n",
       "      <td>61.61</td>\n",
       "      <td>True</td>\n",
       "    </tr>\n",
       "    <tr>\n",
       "      <th>2023-04-04</th>\n",
       "      <td>NaN</td>\n",
       "      <td>NaN</td>\n",
       "      <td>NaN</td>\n",
       "      <td>NaN</td>\n",
       "      <td>NaN</td>\n",
       "      <td>1</td>\n",
       "      <td>4</td>\n",
       "      <td>2023</td>\n",
       "      <td>94</td>\n",
       "      <td>4</td>\n",
       "      <td>2</td>\n",
       "      <td>14</td>\n",
       "      <td>90.40</td>\n",
       "      <td>72.75</td>\n",
       "      <td>62.98</td>\n",
       "      <td>True</td>\n",
       "    </tr>\n",
       "    <tr>\n",
       "      <th>2023-04-05</th>\n",
       "      <td>NaN</td>\n",
       "      <td>NaN</td>\n",
       "      <td>NaN</td>\n",
       "      <td>NaN</td>\n",
       "      <td>NaN</td>\n",
       "      <td>2</td>\n",
       "      <td>4</td>\n",
       "      <td>2023</td>\n",
       "      <td>95</td>\n",
       "      <td>5</td>\n",
       "      <td>2</td>\n",
       "      <td>14</td>\n",
       "      <td>90.44</td>\n",
       "      <td>73.80</td>\n",
       "      <td>64.69</td>\n",
       "      <td>True</td>\n",
       "    </tr>\n",
       "  </tbody>\n",
       "</table>\n",
       "</div>"
      ],
      "text/plain": [
       "            ort_dol  ort_yagis  ort_tuketim  temiz  population  dayofweek  \\\n",
       "2023-04-01      NaN        NaN          NaN    NaN         NaN          5   \n",
       "2023-04-02      NaN        NaN          NaN    NaN         NaN          6   \n",
       "2023-04-03      NaN        NaN          NaN    NaN         NaN          0   \n",
       "2023-04-04      NaN        NaN          NaN    NaN         NaN          1   \n",
       "2023-04-05      NaN        NaN          NaN    NaN         NaN          2   \n",
       "\n",
       "            month  year  dayofyear  dayofmonth  quarter  weekofyear   lag1  \\\n",
       "2023-04-01      4  2023         91           1        2          13  90.12   \n",
       "2023-04-02      4  2023         92           2        2          13  90.09   \n",
       "2023-04-03      4  2023         93           3        2          14  90.23   \n",
       "2023-04-04      4  2023         94           4        2          14  90.40   \n",
       "2023-04-05      4  2023         95           5        2          14  90.44   \n",
       "\n",
       "             lag2   lag3  target  \n",
       "2023-04-01  67.56  54.30    True  \n",
       "2023-04-02  67.44  54.81    True  \n",
       "2023-04-03  70.23  61.61    True  \n",
       "2023-04-04  72.75  62.98    True  \n",
       "2023-04-05  73.80  64.69    True  "
      ]
     },
     "execution_count": 64,
     "metadata": {},
     "output_type": "execute_result"
    }
   ],
   "source": [
    "future_w_features.head()"
   ]
  },
  {
   "cell_type": "code",
   "execution_count": 65,
   "id": "e8bb1147-ec5a-4630-82a3-f9efb3f92032",
   "metadata": {
    "tags": []
   },
   "outputs": [],
   "source": [
    "feature=['ort_yagis',\"temiz\", 'population','dayofweek', 'month', 'dayofmonth',\"lag1\",\"lag2\",\"lag3\"]"
   ]
  },
  {
   "cell_type": "code",
   "execution_count": 66,
   "id": "0528728d-4c8e-44e9-ae3b-f4bd8d66c348",
   "metadata": {
    "tags": []
   },
   "outputs": [],
   "source": [
    "tahmin=future_w_features[feature]"
   ]
  },
  {
   "cell_type": "code",
   "execution_count": 67,
   "id": "994054c3-5042-45d5-a0a9-774ec524c72a",
   "metadata": {
    "tags": []
   },
   "outputs": [],
   "source": [
    "tahmin[\"dayofweek\"]=tahmin[\"dayofweek\"].apply(lambda x: str(x))\n",
    "tahmin[\"month\"]=tahmin[\"month\"].apply(lambda x: str(x))\n",
    "tahmin[\"dayofmonth\"]=tahmin[\"dayofmonth\"].apply(lambda x: str(x))"
   ]
  },
  {
   "cell_type": "code",
   "execution_count": 68,
   "id": "a0041827-5988-4a85-8d17-65617fe8f077",
   "metadata": {
    "tags": []
   },
   "outputs": [
    {
     "data": {
      "text/html": [
       "<div>\n",
       "<style scoped>\n",
       "    .dataframe tbody tr th:only-of-type {\n",
       "        vertical-align: middle;\n",
       "    }\n",
       "\n",
       "    .dataframe tbody tr th {\n",
       "        vertical-align: top;\n",
       "    }\n",
       "\n",
       "    .dataframe thead th {\n",
       "        text-align: right;\n",
       "    }\n",
       "</style>\n",
       "<table border=\"1\" class=\"dataframe\">\n",
       "  <thead>\n",
       "    <tr style=\"text-align: right;\">\n",
       "      <th></th>\n",
       "      <th>ort_yagis</th>\n",
       "      <th>temiz</th>\n",
       "      <th>population</th>\n",
       "      <th>dayofweek</th>\n",
       "      <th>month</th>\n",
       "      <th>dayofmonth</th>\n",
       "      <th>lag1</th>\n",
       "      <th>lag2</th>\n",
       "      <th>lag3</th>\n",
       "    </tr>\n",
       "  </thead>\n",
       "  <tbody>\n",
       "    <tr>\n",
       "      <th>2023-04-01</th>\n",
       "      <td>NaN</td>\n",
       "      <td>NaN</td>\n",
       "      <td>NaN</td>\n",
       "      <td>5</td>\n",
       "      <td>4</td>\n",
       "      <td>1</td>\n",
       "      <td>90.12</td>\n",
       "      <td>67.56</td>\n",
       "      <td>54.30</td>\n",
       "    </tr>\n",
       "    <tr>\n",
       "      <th>2023-04-02</th>\n",
       "      <td>NaN</td>\n",
       "      <td>NaN</td>\n",
       "      <td>NaN</td>\n",
       "      <td>6</td>\n",
       "      <td>4</td>\n",
       "      <td>2</td>\n",
       "      <td>90.09</td>\n",
       "      <td>67.44</td>\n",
       "      <td>54.81</td>\n",
       "    </tr>\n",
       "    <tr>\n",
       "      <th>2023-04-03</th>\n",
       "      <td>NaN</td>\n",
       "      <td>NaN</td>\n",
       "      <td>NaN</td>\n",
       "      <td>0</td>\n",
       "      <td>4</td>\n",
       "      <td>3</td>\n",
       "      <td>90.23</td>\n",
       "      <td>70.23</td>\n",
       "      <td>61.61</td>\n",
       "    </tr>\n",
       "    <tr>\n",
       "      <th>2023-04-04</th>\n",
       "      <td>NaN</td>\n",
       "      <td>NaN</td>\n",
       "      <td>NaN</td>\n",
       "      <td>1</td>\n",
       "      <td>4</td>\n",
       "      <td>4</td>\n",
       "      <td>90.40</td>\n",
       "      <td>72.75</td>\n",
       "      <td>62.98</td>\n",
       "    </tr>\n",
       "    <tr>\n",
       "      <th>2023-04-05</th>\n",
       "      <td>NaN</td>\n",
       "      <td>NaN</td>\n",
       "      <td>NaN</td>\n",
       "      <td>2</td>\n",
       "      <td>4</td>\n",
       "      <td>5</td>\n",
       "      <td>90.44</td>\n",
       "      <td>73.80</td>\n",
       "      <td>64.69</td>\n",
       "    </tr>\n",
       "  </tbody>\n",
       "</table>\n",
       "</div>"
      ],
      "text/plain": [
       "            ort_yagis  temiz  population dayofweek month dayofmonth   lag1  \\\n",
       "2023-04-01        NaN    NaN         NaN         5     4          1  90.12   \n",
       "2023-04-02        NaN    NaN         NaN         6     4          2  90.09   \n",
       "2023-04-03        NaN    NaN         NaN         0     4          3  90.23   \n",
       "2023-04-04        NaN    NaN         NaN         1     4          4  90.40   \n",
       "2023-04-05        NaN    NaN         NaN         2     4          5  90.44   \n",
       "\n",
       "             lag2   lag3  \n",
       "2023-04-01  67.56  54.30  \n",
       "2023-04-02  67.44  54.81  \n",
       "2023-04-03  70.23  61.61  \n",
       "2023-04-04  72.75  62.98  \n",
       "2023-04-05  73.80  64.69  "
      ]
     },
     "execution_count": 68,
     "metadata": {},
     "output_type": "execute_result"
    }
   ],
   "source": [
    "tahmin.head()"
   ]
  },
  {
   "cell_type": "code",
   "execution_count": 69,
   "id": "695435db-28fc-41c9-aceb-01d316847e3e",
   "metadata": {
    "tags": []
   },
   "outputs": [
    {
     "data": {
      "text/plain": [
       "ort_yagis     float64\n",
       "temiz         float64\n",
       "population    float64\n",
       "dayofweek      object\n",
       "month          object\n",
       "dayofmonth     object\n",
       "lag1          float64\n",
       "lag2          float64\n",
       "lag3          float64\n",
       "dtype: object"
      ]
     },
     "execution_count": 69,
     "metadata": {},
     "output_type": "execute_result"
    }
   ],
   "source": [
    "tahmin.dtypes"
   ]
  },
  {
   "cell_type": "code",
   "execution_count": 70,
   "id": "ac566b08-ce67-43d6-9d00-e479a9a0c02c",
   "metadata": {
    "tags": []
   },
   "outputs": [],
   "source": [
    "tahmin[\"population\"]=15927951"
   ]
  },
  {
   "cell_type": "code",
   "execution_count": 71,
   "id": "d959704e-bfa9-4653-b839-a5181ef544bf",
   "metadata": {
    "tags": []
   },
   "outputs": [],
   "source": [
    "yag22=list(df.loc[\"2022-04-01\":,\"ort_yagis\"])"
   ]
  },
  {
   "cell_type": "code",
   "execution_count": 72,
   "id": "02bef0c1-3e5c-4213-b0b5-3760cf7dd475",
   "metadata": {
    "tags": []
   },
   "outputs": [],
   "source": [
    "yag22.insert(334,0.0)"
   ]
  },
  {
   "cell_type": "code",
   "execution_count": 73,
   "id": "eacdecf4-4a55-4122-8bbf-9e76693e8958",
   "metadata": {
    "tags": []
   },
   "outputs": [],
   "source": [
    "yag21=list(df.loc[\"2021-04-01\":\"2022-03-31\",\"ort_yagis\"])"
   ]
  },
  {
   "cell_type": "code",
   "execution_count": 74,
   "id": "d9c05144-0c3a-4532-b447-245092201c0f",
   "metadata": {
    "tags": []
   },
   "outputs": [],
   "source": [
    "yag21.insert(334,0.0)"
   ]
  },
  {
   "cell_type": "code",
   "execution_count": 75,
   "id": "19ca7810-7abb-4357-8005-c7b7528962ce",
   "metadata": {
    "tags": []
   },
   "outputs": [],
   "source": [
    "yag20=list(df.loc[\"2020-04-01\":\"2021-03-31\",\"ort_yagis\"])"
   ]
  },
  {
   "cell_type": "code",
   "execution_count": 76,
   "id": "ab1a6028-40a3-4d6e-9554-a754f5f9043a",
   "metadata": {
    "tags": []
   },
   "outputs": [],
   "source": [
    "yag20.insert(334,0.0)"
   ]
  },
  {
   "cell_type": "code",
   "execution_count": 77,
   "id": "eb40121f-3f42-4ffa-954e-d3b53179cc02",
   "metadata": {
    "tags": []
   },
   "outputs": [],
   "source": [
    "top=np.array([yag20,yag21,yag22])"
   ]
  },
  {
   "cell_type": "code",
   "execution_count": 78,
   "id": "1901c889-8212-48f1-990b-5022c9d3c651",
   "metadata": {
    "tags": []
   },
   "outputs": [],
   "source": [
    "yag=list((top[0]+top[1]+top[2])/3)"
   ]
  },
  {
   "cell_type": "code",
   "execution_count": 79,
   "id": "62402150-2641-4e43-aa53-787cd5b2dc30",
   "metadata": {
    "tags": []
   },
   "outputs": [],
   "source": [
    "tahmin[\"ort_yagis\"]=yag"
   ]
  },
  {
   "cell_type": "code",
   "execution_count": 80,
   "id": "a9278051-1c73-4dac-aed0-e60c843d7a1b",
   "metadata": {
    "tags": []
   },
   "outputs": [],
   "source": [
    "tem=list(df.loc[\"2022-04-01\":,\"temiz\"])"
   ]
  },
  {
   "cell_type": "code",
   "execution_count": 81,
   "id": "1b59c1d8-7120-44a0-8b9d-615a578c988c",
   "metadata": {
    "tags": []
   },
   "outputs": [
    {
     "data": {
      "text/plain": [
       "92.0705"
      ]
     },
     "execution_count": 81,
     "metadata": {},
     "output_type": "execute_result"
    }
   ],
   "source": [
    "89+(89*(3.45/100))"
   ]
  },
  {
   "cell_type": "code",
   "execution_count": 82,
   "id": "6c08e572-d264-4d03-a1fc-ca88ac1ddc87",
   "metadata": {
    "tags": []
   },
   "outputs": [],
   "source": [
    "tem.insert(334,80.459)"
   ]
  },
  {
   "cell_type": "code",
   "execution_count": 83,
   "id": "89102190-d53b-43cf-a1bb-bddc47b86927",
   "metadata": {
    "tags": []
   },
   "outputs": [],
   "source": [
    "temiz2=[]\n",
    "for i in tem:\n",
    "    temiz2.append(i+(i*(3.45/100)))"
   ]
  },
  {
   "cell_type": "code",
   "execution_count": 84,
   "id": "0dd7a447-a385-4c3d-a72f-bf09005223ce",
   "metadata": {
    "tags": []
   },
   "outputs": [],
   "source": [
    "tahmin[\"temiz\"]=temiz2"
   ]
  },
  {
   "cell_type": "code",
   "execution_count": 85,
   "id": "ba3a4575-1d3e-4e7c-92de-b158716abd81",
   "metadata": {
    "tags": []
   },
   "outputs": [
    {
     "data": {
      "text/html": [
       "<div>\n",
       "<style scoped>\n",
       "    .dataframe tbody tr th:only-of-type {\n",
       "        vertical-align: middle;\n",
       "    }\n",
       "\n",
       "    .dataframe tbody tr th {\n",
       "        vertical-align: top;\n",
       "    }\n",
       "\n",
       "    .dataframe thead th {\n",
       "        text-align: right;\n",
       "    }\n",
       "</style>\n",
       "<table border=\"1\" class=\"dataframe\">\n",
       "  <thead>\n",
       "    <tr style=\"text-align: right;\">\n",
       "      <th></th>\n",
       "      <th>ort_yagis</th>\n",
       "      <th>temiz</th>\n",
       "      <th>population</th>\n",
       "      <th>dayofweek</th>\n",
       "      <th>month</th>\n",
       "      <th>dayofmonth</th>\n",
       "      <th>lag1</th>\n",
       "      <th>lag2</th>\n",
       "      <th>lag3</th>\n",
       "    </tr>\n",
       "  </thead>\n",
       "  <tbody>\n",
       "    <tr>\n",
       "      <th>2023-04-01</th>\n",
       "      <td>0.283333</td>\n",
       "      <td>90.161848</td>\n",
       "      <td>15927951</td>\n",
       "      <td>5</td>\n",
       "      <td>4</td>\n",
       "      <td>1</td>\n",
       "      <td>90.12</td>\n",
       "      <td>67.56</td>\n",
       "      <td>54.30</td>\n",
       "    </tr>\n",
       "    <tr>\n",
       "      <th>2023-04-02</th>\n",
       "      <td>0.353333</td>\n",
       "      <td>90.161848</td>\n",
       "      <td>15927951</td>\n",
       "      <td>6</td>\n",
       "      <td>4</td>\n",
       "      <td>2</td>\n",
       "      <td>90.09</td>\n",
       "      <td>67.44</td>\n",
       "      <td>54.81</td>\n",
       "    </tr>\n",
       "    <tr>\n",
       "      <th>2023-04-03</th>\n",
       "      <td>7.333333</td>\n",
       "      <td>90.161848</td>\n",
       "      <td>15927951</td>\n",
       "      <td>0</td>\n",
       "      <td>4</td>\n",
       "      <td>3</td>\n",
       "      <td>90.23</td>\n",
       "      <td>70.23</td>\n",
       "      <td>61.61</td>\n",
       "    </tr>\n",
       "    <tr>\n",
       "      <th>2023-04-04</th>\n",
       "      <td>1.063333</td>\n",
       "      <td>90.161848</td>\n",
       "      <td>15927951</td>\n",
       "      <td>1</td>\n",
       "      <td>4</td>\n",
       "      <td>4</td>\n",
       "      <td>90.40</td>\n",
       "      <td>72.75</td>\n",
       "      <td>62.98</td>\n",
       "    </tr>\n",
       "    <tr>\n",
       "      <th>2023-04-05</th>\n",
       "      <td>13.453333</td>\n",
       "      <td>90.161848</td>\n",
       "      <td>15927951</td>\n",
       "      <td>2</td>\n",
       "      <td>4</td>\n",
       "      <td>5</td>\n",
       "      <td>90.44</td>\n",
       "      <td>73.80</td>\n",
       "      <td>64.69</td>\n",
       "    </tr>\n",
       "  </tbody>\n",
       "</table>\n",
       "</div>"
      ],
      "text/plain": [
       "            ort_yagis      temiz  population dayofweek month dayofmonth  \\\n",
       "2023-04-01   0.283333  90.161848    15927951         5     4          1   \n",
       "2023-04-02   0.353333  90.161848    15927951         6     4          2   \n",
       "2023-04-03   7.333333  90.161848    15927951         0     4          3   \n",
       "2023-04-04   1.063333  90.161848    15927951         1     4          4   \n",
       "2023-04-05  13.453333  90.161848    15927951         2     4          5   \n",
       "\n",
       "             lag1   lag2   lag3  \n",
       "2023-04-01  90.12  67.56  54.30  \n",
       "2023-04-02  90.09  67.44  54.81  \n",
       "2023-04-03  90.23  70.23  61.61  \n",
       "2023-04-04  90.40  72.75  62.98  \n",
       "2023-04-05  90.44  73.80  64.69  "
      ]
     },
     "execution_count": 85,
     "metadata": {},
     "output_type": "execute_result"
    }
   ],
   "source": [
    "tahmin.head()"
   ]
  },
  {
   "cell_type": "code",
   "execution_count": 86,
   "id": "6f3f694d-546f-4e6f-b4c3-205cbf042a1b",
   "metadata": {
    "tags": []
   },
   "outputs": [],
   "source": [
    "tahmin=te.transform(tahmin)"
   ]
  },
  {
   "cell_type": "code",
   "execution_count": 87,
   "id": "50a9ff77-af15-400c-aa9d-0c67cb1a54a5",
   "metadata": {
    "tags": []
   },
   "outputs": [
    {
     "data": {
      "text/html": [
       "<div>\n",
       "<style scoped>\n",
       "    .dataframe tbody tr th:only-of-type {\n",
       "        vertical-align: middle;\n",
       "    }\n",
       "\n",
       "    .dataframe tbody tr th {\n",
       "        vertical-align: top;\n",
       "    }\n",
       "\n",
       "    .dataframe thead th {\n",
       "        text-align: right;\n",
       "    }\n",
       "</style>\n",
       "<table border=\"1\" class=\"dataframe\">\n",
       "  <thead>\n",
       "    <tr style=\"text-align: right;\">\n",
       "      <th></th>\n",
       "      <th>tavg</th>\n",
       "      <th>tmin</th>\n",
       "      <th>tmax</th>\n",
       "    </tr>\n",
       "  </thead>\n",
       "  <tbody>\n",
       "    <tr>\n",
       "      <th>2015-01-01</th>\n",
       "      <td>3.2</td>\n",
       "      <td>2.6</td>\n",
       "      <td>4.0</td>\n",
       "    </tr>\n",
       "    <tr>\n",
       "      <th>2015-01-02</th>\n",
       "      <td>3.0</td>\n",
       "      <td>0.9</td>\n",
       "      <td>5.0</td>\n",
       "    </tr>\n",
       "    <tr>\n",
       "      <th>2015-01-03</th>\n",
       "      <td>3.6</td>\n",
       "      <td>-1.0</td>\n",
       "      <td>6.0</td>\n",
       "    </tr>\n",
       "    <tr>\n",
       "      <th>2015-01-04</th>\n",
       "      <td>7.2</td>\n",
       "      <td>4.7</td>\n",
       "      <td>9.0</td>\n",
       "    </tr>\n",
       "    <tr>\n",
       "      <th>2015-01-05</th>\n",
       "      <td>4.6</td>\n",
       "      <td>3.2</td>\n",
       "      <td>6.2</td>\n",
       "    </tr>\n",
       "  </tbody>\n",
       "</table>\n",
       "</div>"
      ],
      "text/plain": [
       "            tavg  tmin  tmax\n",
       "2015-01-01   3.2   2.6   4.0\n",
       "2015-01-02   3.0   0.9   5.0\n",
       "2015-01-03   3.6  -1.0   6.0\n",
       "2015-01-04   7.2   4.7   9.0\n",
       "2015-01-05   4.6   3.2   6.2"
      ]
     },
     "execution_count": 87,
     "metadata": {},
     "output_type": "execute_result"
    }
   ],
   "source": [
    "sc=pd.read_csv(\"sicaklik.csv\", encoding='latin-1', on_bad_lines='skip', sep=\",\")\n",
    "indeks=pd.date_range(\"2015-01-01\",\"2023-05-14\")\n",
    "sc.set_index(indeks, inplace=True)\n",
    "sc=sc.loc[:,[\"tavg\",\"tmin\",\"tmax\"]]\n",
    "sc.head()"
   ]
  },
  {
   "cell_type": "code",
   "execution_count": 88,
   "id": "66ae20ed-3dc4-4fc3-8d3d-07157ec3ab62",
   "metadata": {
    "tags": []
   },
   "outputs": [],
   "source": [
    "temp2=list(sc.loc[\"2022-04-01\":\"2023-03-31\",\"tavg\"])"
   ]
  },
  {
   "cell_type": "code",
   "execution_count": 89,
   "id": "54830c9e-726f-491f-adfa-42bfbc51481b",
   "metadata": {
    "tags": []
   },
   "outputs": [],
   "source": [
    "temp2.insert(334,9.0)"
   ]
  },
  {
   "cell_type": "code",
   "execution_count": 90,
   "id": "5938745c-8082-4b47-af6f-7821d5739771",
   "metadata": {
    "tags": []
   },
   "outputs": [],
   "source": [
    "tahminSıcaklık=tahmin.copy()"
   ]
  },
  {
   "cell_type": "code",
   "execution_count": 91,
   "id": "fd099f73-7308-401c-bfbb-cfbc44799cba",
   "metadata": {
    "tags": []
   },
   "outputs": [],
   "source": [
    "tahminSıcaklık[\"temp\"]=temp2"
   ]
  },
  {
   "cell_type": "code",
   "execution_count": 92,
   "id": "c85a2547-9615-48ac-92b8-9d7407f2ec64",
   "metadata": {
    "tags": []
   },
   "outputs": [
    {
     "data": {
      "text/html": [
       "<div>\n",
       "<style scoped>\n",
       "    .dataframe tbody tr th:only-of-type {\n",
       "        vertical-align: middle;\n",
       "    }\n",
       "\n",
       "    .dataframe tbody tr th {\n",
       "        vertical-align: top;\n",
       "    }\n",
       "\n",
       "    .dataframe thead th {\n",
       "        text-align: right;\n",
       "    }\n",
       "</style>\n",
       "<table border=\"1\" class=\"dataframe\">\n",
       "  <thead>\n",
       "    <tr style=\"text-align: right;\">\n",
       "      <th></th>\n",
       "      <th>ort_yagis</th>\n",
       "      <th>temiz</th>\n",
       "      <th>population</th>\n",
       "      <th>dayofweek</th>\n",
       "      <th>month</th>\n",
       "      <th>dayofmonth</th>\n",
       "      <th>lag1</th>\n",
       "      <th>lag2</th>\n",
       "      <th>lag3</th>\n",
       "    </tr>\n",
       "  </thead>\n",
       "  <tbody>\n",
       "    <tr>\n",
       "      <th>2023-04-01</th>\n",
       "      <td>0.283333</td>\n",
       "      <td>90.161848</td>\n",
       "      <td>15927951</td>\n",
       "      <td>62.058153</td>\n",
       "      <td>80.517364</td>\n",
       "      <td>62.426510</td>\n",
       "      <td>90.12</td>\n",
       "      <td>67.56</td>\n",
       "      <td>54.30</td>\n",
       "    </tr>\n",
       "    <tr>\n",
       "      <th>2023-04-02</th>\n",
       "      <td>0.353333</td>\n",
       "      <td>90.161848</td>\n",
       "      <td>15927951</td>\n",
       "      <td>62.029808</td>\n",
       "      <td>80.517364</td>\n",
       "      <td>62.419085</td>\n",
       "      <td>90.09</td>\n",
       "      <td>67.44</td>\n",
       "      <td>54.81</td>\n",
       "    </tr>\n",
       "    <tr>\n",
       "      <th>2023-04-03</th>\n",
       "      <td>7.333333</td>\n",
       "      <td>90.161848</td>\n",
       "      <td>15927951</td>\n",
       "      <td>61.995157</td>\n",
       "      <td>80.517364</td>\n",
       "      <td>62.366283</td>\n",
       "      <td>90.23</td>\n",
       "      <td>70.23</td>\n",
       "      <td>61.61</td>\n",
       "    </tr>\n",
       "    <tr>\n",
       "      <th>2023-04-04</th>\n",
       "      <td>1.063333</td>\n",
       "      <td>90.161848</td>\n",
       "      <td>15927951</td>\n",
       "      <td>61.991707</td>\n",
       "      <td>80.517364</td>\n",
       "      <td>62.268481</td>\n",
       "      <td>90.40</td>\n",
       "      <td>72.75</td>\n",
       "      <td>62.98</td>\n",
       "    </tr>\n",
       "    <tr>\n",
       "      <th>2023-04-05</th>\n",
       "      <td>13.453333</td>\n",
       "      <td>90.161848</td>\n",
       "      <td>15927951</td>\n",
       "      <td>62.014826</td>\n",
       "      <td>80.517364</td>\n",
       "      <td>62.175225</td>\n",
       "      <td>90.44</td>\n",
       "      <td>73.80</td>\n",
       "      <td>64.69</td>\n",
       "    </tr>\n",
       "  </tbody>\n",
       "</table>\n",
       "</div>"
      ],
      "text/plain": [
       "            ort_yagis      temiz  population  dayofweek      month  \\\n",
       "2023-04-01   0.283333  90.161848    15927951  62.058153  80.517364   \n",
       "2023-04-02   0.353333  90.161848    15927951  62.029808  80.517364   \n",
       "2023-04-03   7.333333  90.161848    15927951  61.995157  80.517364   \n",
       "2023-04-04   1.063333  90.161848    15927951  61.991707  80.517364   \n",
       "2023-04-05  13.453333  90.161848    15927951  62.014826  80.517364   \n",
       "\n",
       "            dayofmonth   lag1   lag2   lag3  \n",
       "2023-04-01   62.426510  90.12  67.56  54.30  \n",
       "2023-04-02   62.419085  90.09  67.44  54.81  \n",
       "2023-04-03   62.366283  90.23  70.23  61.61  \n",
       "2023-04-04   62.268481  90.40  72.75  62.98  \n",
       "2023-04-05   62.175225  90.44  73.80  64.69  "
      ]
     },
     "execution_count": 92,
     "metadata": {},
     "output_type": "execute_result"
    }
   ],
   "source": [
    "tahmin.head()"
   ]
  },
  {
   "cell_type": "code",
   "execution_count": 93,
   "id": "ce469aa8-8c73-4579-9e31-05689f3e348f",
   "metadata": {
    "tags": []
   },
   "outputs": [
    {
     "data": {
      "text/html": [
       "<div>\n",
       "<style scoped>\n",
       "    .dataframe tbody tr th:only-of-type {\n",
       "        vertical-align: middle;\n",
       "    }\n",
       "\n",
       "    .dataframe tbody tr th {\n",
       "        vertical-align: top;\n",
       "    }\n",
       "\n",
       "    .dataframe thead th {\n",
       "        text-align: right;\n",
       "    }\n",
       "</style>\n",
       "<table border=\"1\" class=\"dataframe\">\n",
       "  <thead>\n",
       "    <tr style=\"text-align: right;\">\n",
       "      <th></th>\n",
       "      <th>ort_yagis</th>\n",
       "      <th>temiz</th>\n",
       "      <th>population</th>\n",
       "      <th>dayofweek</th>\n",
       "      <th>month</th>\n",
       "      <th>dayofmonth</th>\n",
       "      <th>lag1</th>\n",
       "      <th>lag2</th>\n",
       "      <th>lag3</th>\n",
       "      <th>temp</th>\n",
       "    </tr>\n",
       "  </thead>\n",
       "  <tbody>\n",
       "    <tr>\n",
       "      <th>2023-04-01</th>\n",
       "      <td>0.283333</td>\n",
       "      <td>90.161848</td>\n",
       "      <td>15927951</td>\n",
       "      <td>62.058153</td>\n",
       "      <td>80.517364</td>\n",
       "      <td>62.426510</td>\n",
       "      <td>90.12</td>\n",
       "      <td>67.56</td>\n",
       "      <td>54.30</td>\n",
       "      <td>17.3</td>\n",
       "    </tr>\n",
       "    <tr>\n",
       "      <th>2023-04-02</th>\n",
       "      <td>0.353333</td>\n",
       "      <td>90.161848</td>\n",
       "      <td>15927951</td>\n",
       "      <td>62.029808</td>\n",
       "      <td>80.517364</td>\n",
       "      <td>62.419085</td>\n",
       "      <td>90.09</td>\n",
       "      <td>67.44</td>\n",
       "      <td>54.81</td>\n",
       "      <td>15.9</td>\n",
       "    </tr>\n",
       "    <tr>\n",
       "      <th>2023-04-03</th>\n",
       "      <td>7.333333</td>\n",
       "      <td>90.161848</td>\n",
       "      <td>15927951</td>\n",
       "      <td>61.995157</td>\n",
       "      <td>80.517364</td>\n",
       "      <td>62.366283</td>\n",
       "      <td>90.23</td>\n",
       "      <td>70.23</td>\n",
       "      <td>61.61</td>\n",
       "      <td>13.2</td>\n",
       "    </tr>\n",
       "    <tr>\n",
       "      <th>2023-04-04</th>\n",
       "      <td>1.063333</td>\n",
       "      <td>90.161848</td>\n",
       "      <td>15927951</td>\n",
       "      <td>61.991707</td>\n",
       "      <td>80.517364</td>\n",
       "      <td>62.268481</td>\n",
       "      <td>90.40</td>\n",
       "      <td>72.75</td>\n",
       "      <td>62.98</td>\n",
       "      <td>10.3</td>\n",
       "    </tr>\n",
       "    <tr>\n",
       "      <th>2023-04-05</th>\n",
       "      <td>13.453333</td>\n",
       "      <td>90.161848</td>\n",
       "      <td>15927951</td>\n",
       "      <td>62.014826</td>\n",
       "      <td>80.517364</td>\n",
       "      <td>62.175225</td>\n",
       "      <td>90.44</td>\n",
       "      <td>73.80</td>\n",
       "      <td>64.69</td>\n",
       "      <td>10.3</td>\n",
       "    </tr>\n",
       "  </tbody>\n",
       "</table>\n",
       "</div>"
      ],
      "text/plain": [
       "            ort_yagis      temiz  population  dayofweek      month  \\\n",
       "2023-04-01   0.283333  90.161848    15927951  62.058153  80.517364   \n",
       "2023-04-02   0.353333  90.161848    15927951  62.029808  80.517364   \n",
       "2023-04-03   7.333333  90.161848    15927951  61.995157  80.517364   \n",
       "2023-04-04   1.063333  90.161848    15927951  61.991707  80.517364   \n",
       "2023-04-05  13.453333  90.161848    15927951  62.014826  80.517364   \n",
       "\n",
       "            dayofmonth   lag1   lag2   lag3  temp  \n",
       "2023-04-01   62.426510  90.12  67.56  54.30  17.3  \n",
       "2023-04-02   62.419085  90.09  67.44  54.81  15.9  \n",
       "2023-04-03   62.366283  90.23  70.23  61.61  13.2  \n",
       "2023-04-04   62.268481  90.40  72.75  62.98  10.3  \n",
       "2023-04-05   62.175225  90.44  73.80  64.69  10.3  "
      ]
     },
     "execution_count": 93,
     "metadata": {},
     "output_type": "execute_result"
    }
   ],
   "source": [
    "tahminSıcaklık.head()"
   ]
  },
  {
   "cell_type": "code",
   "execution_count": 94,
   "id": "e5bda67a-42fe-475a-b590-f8aee4f4e352",
   "metadata": {
    "tags": []
   },
   "outputs": [],
   "source": [
    "y_pred=xgb.predict(tahmin) # 2021e kadar olan data ile"
   ]
  },
  {
   "cell_type": "code",
   "execution_count": 95,
   "id": "2db27147-93e7-4a1f-b1c7-af08fe2f3395",
   "metadata": {
    "tags": []
   },
   "outputs": [
    {
     "data": {
      "text/html": [
       "<div>\n",
       "<style scoped>\n",
       "    .dataframe tbody tr th:only-of-type {\n",
       "        vertical-align: middle;\n",
       "    }\n",
       "\n",
       "    .dataframe tbody tr th {\n",
       "        vertical-align: top;\n",
       "    }\n",
       "\n",
       "    .dataframe thead th {\n",
       "        text-align: right;\n",
       "    }\n",
       "</style>\n",
       "<table border=\"1\" class=\"dataframe\">\n",
       "  <thead>\n",
       "    <tr style=\"text-align: right;\">\n",
       "      <th></th>\n",
       "      <th>xgb</th>\n",
       "    </tr>\n",
       "  </thead>\n",
       "  <tbody>\n",
       "    <tr>\n",
       "      <th>2023-04-01</th>\n",
       "      <td>74.123955</td>\n",
       "    </tr>\n",
       "    <tr>\n",
       "      <th>2023-04-02</th>\n",
       "      <td>74.755020</td>\n",
       "    </tr>\n",
       "    <tr>\n",
       "      <th>2023-04-03</th>\n",
       "      <td>76.268463</td>\n",
       "    </tr>\n",
       "    <tr>\n",
       "      <th>2023-04-04</th>\n",
       "      <td>77.066132</td>\n",
       "    </tr>\n",
       "    <tr>\n",
       "      <th>2023-04-05</th>\n",
       "      <td>75.340462</td>\n",
       "    </tr>\n",
       "  </tbody>\n",
       "</table>\n",
       "</div>"
      ],
      "text/plain": [
       "                  xgb\n",
       "2023-04-01  74.123955\n",
       "2023-04-02  74.755020\n",
       "2023-04-03  76.268463\n",
       "2023-04-04  77.066132\n",
       "2023-04-05  75.340462"
      ]
     },
     "execution_count": 95,
     "metadata": {},
     "output_type": "execute_result"
    }
   ],
   "source": [
    "tablo=pd.DataFrame({\"xgb\":y_pred}, index=tahmin.index)\n",
    "tablo.head()"
   ]
  },
  {
   "cell_type": "code",
   "execution_count": 96,
   "id": "2d36ca14-2c40-4aff-befe-d2c80d1e84cc",
   "metadata": {
    "tags": []
   },
   "outputs": [
    {
     "data": {
      "image/png": "[encoded data removed]",
      "text/plain": [
       "<Figure size 1500x500 with 1 Axes>"
      ]
     },
     "metadata": {},
     "output_type": "display_data"
    }
   ],
   "source": [
    "plt.figure(figsize=(15,5))\n",
    "sns.lineplot(tablo, x=tablo.index, y=\"xgb\", color=\"darkorange\")\n",
    "plt.ylabel(\"ortalama doluluk\", fontsize=\"15\")\n",
    "plt.title(\"2023-2024 nisan doluluk tahmini\");"
   ]
  },
  {
   "cell_type": "code",
   "execution_count": 97,
   "id": "13bc035e-f96f-441b-9c91-45c1799c4265",
   "metadata": {
    "tags": []
   },
   "outputs": [
    {
     "data": {
      "image/png": "[encoded data removed]",
      "text/plain": [
       "<Figure size 2000x500 with 1 Axes>"
      ]
     },
     "metadata": {},
     "output_type": "display_data"
    }
   ],
   "source": [
    "plt.figure(figsize=(20,5))\n",
    "sns.lineplot(df_and_future, x=df_and_future.index, y=\"ort_dol\", color=\"b\")\n",
    "sns.lineplot(tablo, x=tablo.index, y=\"xgb\", color=\"darkorange\")\n",
    "plt.ylabel(\"ortalama doluluk\", fontsize=\"15\")\n",
    "plt.title(\"2023-2024 doluluk tahmini\")\n",
    "plt.legend([\"y\"]);"
   ]
  },
  {
   "cell_type": "code",
   "execution_count": null,
   "id": "3779d2bb-5518-4a90-8527-d179164e7e17",
   "metadata": {},
   "outputs": [],
   "source": []
  }
 ],
 "metadata": {
  "kernelspec": {
   "display_name": "Python 3 (ipykernel)",
   "language": "python",
   "name": "python3"
  },
  "language_info": {
   "codemirror_mode": {
    "name": "ipython",
    "version": 3
   },
   "file_extension": ".py",
   "mimetype": "text/x-python",
   "name": "python",
   "nbconvert_exporter": "python",
   "pygments_lexer": "ipython3",
   "version": "3.11.3"
  }
 },
 "nbformat": 4,
 "nbformat_minor": 5
}
